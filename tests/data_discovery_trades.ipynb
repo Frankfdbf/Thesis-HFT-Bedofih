{
 "cells": [
  {
   "cell_type": "code",
   "execution_count": 2,
   "metadata": {},
   "outputs": [],
   "source": [
    "# Import Built-Ins\n",
    "import datetime\n",
    "from copy import deepcopy\n",
    "# Import Third-Party\n",
    "import pandas as pd\n",
    "import os\n",
    "import numpy as np\n",
    "import matplotlib.pyplot as plt\n",
    "import seaborn as sns\n",
    "from tqdm import tqdm   \n",
    "\n",
    "# Import Homebrew\n",
    "#from utilities.functions import timeit, preprocess_trade_file\n",
    "#from utilities.stocks import Stocks\n",
    "\n",
    "\n",
    "\n",
    "pd.set_option('display.max_columns', None)\n",
    "sns.set()"
   ]
  },
  {
   "cell_type": "code",
   "execution_count": 2,
   "metadata": {},
   "outputs": [],
   "source": [
    "path = '/Users/australien/Documents/IESEG/Master 2/Thesis/BEDOFIH 2017/Data_structured_isin/Trades/NL0000226223/VHD_NL0000226223_20170120.csv'\n",
    "data = preprocess_trade_file(path)"
   ]
  },
  {
   "cell_type": "code",
   "execution_count": 3,
   "metadata": {},
   "outputs": [
    {
     "data": {
      "text/html": [
       "<div>\n",
       "<style scoped>\n",
       "    .dataframe tbody tr th:only-of-type {\n",
       "        vertical-align: middle;\n",
       "    }\n",
       "\n",
       "    .dataframe tbody tr th {\n",
       "        vertical-align: top;\n",
       "    }\n",
       "\n",
       "    .dataframe thead th {\n",
       "        text-align: right;\n",
       "    }\n",
       "</style>\n",
       "<table border=\"1\" class=\"dataframe\">\n",
       "  <thead>\n",
       "    <tr style=\"text-align: right;\">\n",
       "      <th></th>\n",
       "      <th>t_capital</th>\n",
       "      <th>t_price</th>\n",
       "      <th>t_d_b_en</th>\n",
       "      <th>t_d_s_en</th>\n",
       "      <th>t_id_b_fd</th>\n",
       "      <th>t_id_s_fd</th>\n",
       "      <th>t_b_sq_nb</th>\n",
       "      <th>t_s_sq_nb</th>\n",
       "      <th>t_b_account</th>\n",
       "      <th>t_s_account</th>\n",
       "      <th>t_q_exchanged</th>\n",
       "      <th>t_tr_nb</th>\n",
       "      <th>t_id_tr</th>\n",
       "      <th>t_agg</th>\n",
       "      <th>t_b_type</th>\n",
       "      <th>t_s_type</th>\n",
       "      <th>t_dtm_neg</th>\n",
       "    </tr>\n",
       "  </thead>\n",
       "  <tbody>\n",
       "    <tr>\n",
       "      <th>0</th>\n",
       "      <td>175.60</td>\n",
       "      <td>10.975</td>\n",
       "      <td>2017-01-20</td>\n",
       "      <td>2017-01-20</td>\n",
       "      <td>17678972075</td>\n",
       "      <td>17678972006</td>\n",
       "      <td>302</td>\n",
       "      <td>192</td>\n",
       "      <td>1</td>\n",
       "      <td>2</td>\n",
       "      <td>16</td>\n",
       "      <td>1</td>\n",
       "      <td>2533202389</td>\n",
       "      <td>NaN</td>\n",
       "      <td>MIX</td>\n",
       "      <td>MIX</td>\n",
       "      <td>2017-01-20 09:00:04.000673</td>\n",
       "    </tr>\n",
       "    <tr>\n",
       "      <th>1</th>\n",
       "      <td>219.50</td>\n",
       "      <td>10.975</td>\n",
       "      <td>2017-01-20</td>\n",
       "      <td>2017-01-20</td>\n",
       "      <td>17678971991</td>\n",
       "      <td>17678972006</td>\n",
       "      <td>176</td>\n",
       "      <td>192</td>\n",
       "      <td>1</td>\n",
       "      <td>2</td>\n",
       "      <td>20</td>\n",
       "      <td>2</td>\n",
       "      <td>2533033240</td>\n",
       "      <td>NaN</td>\n",
       "      <td>MIX</td>\n",
       "      <td>MIX</td>\n",
       "      <td>2017-01-20 09:00:04.000704</td>\n",
       "    </tr>\n",
       "    <tr>\n",
       "      <th>2</th>\n",
       "      <td>669.48</td>\n",
       "      <td>10.975</td>\n",
       "      <td>2017-01-20</td>\n",
       "      <td>2017-01-20</td>\n",
       "      <td>17678971991</td>\n",
       "      <td>17678971992</td>\n",
       "      <td>176</td>\n",
       "      <td>177</td>\n",
       "      <td>1</td>\n",
       "      <td>1</td>\n",
       "      <td>61</td>\n",
       "      <td>3</td>\n",
       "      <td>2533334326</td>\n",
       "      <td>NaN</td>\n",
       "      <td>MIX</td>\n",
       "      <td>MIX</td>\n",
       "      <td>2017-01-20 09:00:04.000712</td>\n",
       "    </tr>\n",
       "    <tr>\n",
       "      <th>3</th>\n",
       "      <td>449.98</td>\n",
       "      <td>10.975</td>\n",
       "      <td>2017-01-20</td>\n",
       "      <td>2017-01-20</td>\n",
       "      <td>17678971991</td>\n",
       "      <td>17678971989</td>\n",
       "      <td>176</td>\n",
       "      <td>166</td>\n",
       "      <td>1</td>\n",
       "      <td>2</td>\n",
       "      <td>41</td>\n",
       "      <td>4</td>\n",
       "      <td>2533032714</td>\n",
       "      <td>NaN</td>\n",
       "      <td>MIX</td>\n",
       "      <td>MIX</td>\n",
       "      <td>2017-01-20 09:00:04.000720</td>\n",
       "    </tr>\n",
       "    <tr>\n",
       "      <th>4</th>\n",
       "      <td>87.80</td>\n",
       "      <td>10.975</td>\n",
       "      <td>2017-01-20</td>\n",
       "      <td>2017-01-20</td>\n",
       "      <td>17678971973</td>\n",
       "      <td>17678971865</td>\n",
       "      <td>150</td>\n",
       "      <td>15</td>\n",
       "      <td>1</td>\n",
       "      <td>1</td>\n",
       "      <td>8</td>\n",
       "      <td>5</td>\n",
       "      <td>2533334494</td>\n",
       "      <td>NaN</td>\n",
       "      <td>MIX</td>\n",
       "      <td>MIX</td>\n",
       "      <td>2017-01-20 09:00:04.000731</td>\n",
       "    </tr>\n",
       "  </tbody>\n",
       "</table>\n",
       "</div>"
      ],
      "text/plain": [
       "   t_capital  t_price   t_d_b_en   t_d_s_en    t_id_b_fd    t_id_s_fd  \\\n",
       "0     175.60   10.975 2017-01-20 2017-01-20  17678972075  17678972006   \n",
       "1     219.50   10.975 2017-01-20 2017-01-20  17678971991  17678972006   \n",
       "2     669.48   10.975 2017-01-20 2017-01-20  17678971991  17678971992   \n",
       "3     449.98   10.975 2017-01-20 2017-01-20  17678971991  17678971989   \n",
       "4      87.80   10.975 2017-01-20 2017-01-20  17678971973  17678971865   \n",
       "\n",
       "   t_b_sq_nb  t_s_sq_nb  t_b_account  t_s_account  t_q_exchanged  t_tr_nb  \\\n",
       "0        302        192            1            2             16        1   \n",
       "1        176        192            1            2             20        2   \n",
       "2        176        177            1            1             61        3   \n",
       "3        176        166            1            2             41        4   \n",
       "4        150         15            1            1              8        5   \n",
       "\n",
       "      t_id_tr t_agg t_b_type t_s_type                  t_dtm_neg  \n",
       "0  2533202389   NaN      MIX      MIX 2017-01-20 09:00:04.000673  \n",
       "1  2533033240   NaN      MIX      MIX 2017-01-20 09:00:04.000704  \n",
       "2  2533334326   NaN      MIX      MIX 2017-01-20 09:00:04.000712  \n",
       "3  2533032714   NaN      MIX      MIX 2017-01-20 09:00:04.000720  \n",
       "4  2533334494   NaN      MIX      MIX 2017-01-20 09:00:04.000731  "
      ]
     },
     "execution_count": 3,
     "metadata": {},
     "output_type": "execute_result"
    }
   ],
   "source": [
    "data.head()"
   ]
  },
  {
   "cell_type": "markdown",
   "metadata": {},
   "source": []
  },
  {
   "cell_type": "code",
   "execution_count": 15,
   "metadata": {},
   "outputs": [
    {
     "data": {
      "text/plain": [
       "0       True\n",
       "1       True\n",
       "2       True\n",
       "3       True\n",
       "4       True\n",
       "        ... \n",
       "2863    True\n",
       "2864    True\n",
       "2865    True\n",
       "2866    True\n",
       "2867    True\n",
       "Name: t_agg, Length: 2868, dtype: bool"
      ]
     },
     "execution_count": 15,
     "metadata": {},
     "output_type": "execute_result"
    }
   ],
   "source": [
    "data.t_agg.isna()"
   ]
  },
  {
   "cell_type": "code",
   "execution_count": 4,
   "metadata": {},
   "outputs": [],
   "source": [
    "total_volume = data['t_q_exchanged'].sum()\n",
    "total_capital = data['t_capital'].sum()\n",
    "data['t_q_exchanged_pct'] = data['t_q_exchanged']/total_volume\n",
    "data['t_capital_pct'] = data['t_capital']/total_capital"
   ]
  },
  {
   "cell_type": "code",
   "execution_count": 5,
   "metadata": {},
   "outputs": [
    {
     "name": "stdout",
     "output_type": "stream",
     "text": [
      "HFT_volume_pct_s: 65.29%\n",
      "MIX_volume_pct_s: 30.90%\n",
      "NON_HFT_volume_pct_s: 3.81%\n",
      "HFT_volume_pct_b: 34.90%\n",
      "MIX_volume_pct_b: 60.21%\n",
      "NON_HFT_volume_pct_b: 4.89%\n"
     ]
    }
   ],
   "source": [
    "stats = {}\n",
    "stats['HFT_volume_pct_s'] = data[data['t_s_type'] == 'HFT']['t_q_exchanged_pct'].sum()\n",
    "stats['MIX_volume_pct_s'] = data[(data['t_s_type'] == 'MIX') | (data['t_s_type'] == 'MIXED')]['t_q_exchanged_pct'].sum()\n",
    "stats['NON_HFT_volume_pct_s'] = data[data['t_s_type'] == 'NON']['t_q_exchanged_pct'].sum()\n",
    "stats['HFT_volume_pct_b'] = data[data['t_b_type'] == 'HFT']['t_q_exchanged_pct'].sum()\n",
    "stats['MIX_volume_pct_b'] = data[(data['t_b_type'] == 'MIX') | (data['t_b_type'] == 'MIXED')]['t_q_exchanged_pct'].sum()\n",
    "stats['NON_HFT_volume_pct_b'] = data[data['t_b_type'] == 'NON']['t_q_exchanged_pct'].sum()\n",
    "\n",
    "for key, value in stats.items():\n",
    "    print(f'{key}: {value*100:.2f}%')"
   ]
  },
  {
   "cell_type": "code",
   "execution_count": 6,
   "metadata": {},
   "outputs": [
    {
     "data": {
      "text/plain": [
       "MIX    4633\n",
       "HFT    3274\n",
       "NON     325\n",
       "Name: t_b_type, dtype: int64"
      ]
     },
     "execution_count": 6,
     "metadata": {},
     "output_type": "execute_result"
    }
   ],
   "source": [
    "data['t_b_type'].value_counts()"
   ]
  },
  {
   "cell_type": "code",
   "execution_count": 18,
   "metadata": {},
   "outputs": [
    {
     "data": {
      "text/plain": [
       "<AxesSubplot:xlabel='t_dtm_neg'>"
      ]
     },
     "execution_count": 18,
     "metadata": {},
     "output_type": "execute_result"
    },
    {
     "data": {
      "image/png": "[encoded data removed]",
      "text/plain": [
       "<Figure size 640x480 with 1 Axes>"
      ]
     },
     "metadata": {},
     "output_type": "display_data"
    }
   ],
   "source": [
    "data.plot(y='t_price', x='t_dtm_neg')"
   ]
  },
  {
   "cell_type": "code",
   "execution_count": 11,
   "metadata": {},
   "outputs": [
    {
     "name": "stdout",
     "output_type": "stream",
     "text": [
      "VHD_FR0000125338_20170102.csv\n",
      "VHD_FR0000125338_20170103.csv\n",
      "VHD_FR0000125338_20170104.csv\n",
      "VHD_FR0000125338_20170105.csv\n",
      "VHD_FR0000125338_20170106.csv\n",
      "VHD_FR0000125338_20170109.csv\n",
      "VHD_FR0000125338_20170110.csv\n",
      "VHD_FR0000125338_20170111.csv\n",
      "VHD_FR0000125338_20170112.csv\n",
      "VHD_FR0000125338_20170113.csv\n",
      "VHD_FR0000125338_20170116.csv\n",
      "VHD_FR0000125338_20170117.csv\n",
      "VHD_FR0000125338_20170118.csv\n",
      "VHD_FR0000125338_20170119.csv\n",
      "VHD_FR0000125338_20170120.csv\n",
      "VHD_FR0000125338_20170123.csv\n",
      "VHD_FR0000125338_20170124.csv\n",
      "VHD_FR0000125338_20170125.csv\n",
      "VHD_FR0000125338_20170126.csv\n",
      "VHD_FR0000125338_20170127.csv\n",
      "VHD_FR0000125338_20170130.csv\n",
      "VHD_FR0000125338_20170131.csv\n",
      "VHD_FR0000125338_20170201.csv\n",
      "VHD_FR0000125338_20170202.csv\n",
      "VHD_FR0000125338_20170203.csv\n",
      "VHD_FR0000125338_20170206.csv\n",
      "VHD_FR0000125338_20170207.csv\n",
      "VHD_FR0000125338_20170208.csv\n",
      "VHD_FR0000125338_20170209.csv\n",
      "VHD_FR0000125338_20170210.csv\n",
      "VHD_FR0000125338_20170213.csv\n",
      "VHD_FR0000125338_20170214.csv\n",
      "VHD_FR0000125338_20170215.csv\n",
      "VHD_FR0000125338_20170216.csv\n",
      "VHD_FR0000125338_20170217.csv\n",
      "VHD_FR0000125338_20170220.csv\n",
      "VHD_FR0000125338_20170221.csv\n",
      "VHD_FR0000125338_20170222.csv\n",
      "VHD_FR0000125338_20170223.csv\n",
      "VHD_FR0000125338_20170224.csv\n",
      "VHD_FR0000125338_20170227.csv\n",
      "VHD_FR0000125338_20170228.csv\n",
      "VHD_FR0000125338_20170301.csv\n",
      "VHD_FR0000125338_20170302.csv\n",
      "VHD_FR0000125338_20170303.csv\n",
      "VHD_FR0000125338_20170306.csv\n",
      "VHD_FR0000125338_20170307.csv\n",
      "VHD_FR0000125338_20170308.csv\n",
      "VHD_FR0000125338_20170309.csv\n",
      "VHD_FR0000125338_20170310.csv\n",
      "VHD_FR0000125338_20170313.csv\n",
      "VHD_FR0000125338_20170314.csv\n",
      "VHD_FR0000125338_20170315.csv\n",
      "VHD_FR0000125338_20170316.csv\n",
      "VHD_FR0000125338_20170317.csv\n",
      "VHD_FR0000125338_20170320.csv\n",
      "VHD_FR0000125338_20170321.csv\n",
      "VHD_FR0000125338_20170322.csv\n",
      "VHD_FR0000125338_20170323.csv\n",
      "VHD_FR0000125338_20170324.csv\n",
      "VHD_FR0000125338_20170327.csv\n",
      "VHD_FR0000125338_20170328.csv\n",
      "VHD_FR0000125338_20170329.csv\n",
      "VHD_FR0000125338_20170330.csv\n",
      "VHD_FR0000125338_20170331.csv\n",
      "VHD_FR0000125338_20170403.csv\n",
      "VHD_FR0000125338_20170404.csv\n",
      "VHD_FR0000125338_20170405.csv\n",
      "VHD_FR0000125338_20170406.csv\n",
      "VHD_FR0000125338_20170407.csv\n",
      "VHD_FR0000125338_20170410.csv\n",
      "VHD_FR0000125338_20170411.csv\n",
      "VHD_FR0000125338_20170412.csv\n",
      "VHD_FR0000125338_20170413.csv\n",
      "VHD_FR0000125338_20170418.csv\n",
      "VHD_FR0000125338_20170419.csv\n",
      "VHD_FR0000125338_20170420.csv\n",
      "VHD_FR0000125338_20170421.csv\n",
      "VHD_FR0000125338_20170424.csv\n",
      "VHD_FR0000125338_20170425.csv\n",
      "VHD_FR0000125338_20170426.csv\n",
      "VHD_FR0000125338_20170427.csv\n",
      "File: \"VHD_FR0000125338_20170427\" is empty\n",
      "VHD_FR0000125338_20170428.csv\n",
      "VHD_FR0000125338_20170502.csv\n",
      "VHD_FR0000125338_20170503.csv\n",
      "VHD_FR0000125338_20170504.csv\n",
      "VHD_FR0000125338_20170505.csv\n",
      "VHD_FR0000125338_20170508.csv\n",
      "VHD_FR0000125338_20170509.csv\n",
      "VHD_FR0000125338_20170510.csv\n",
      "VHD_FR0000125338_20170511.csv\n",
      "VHD_FR0000125338_20170512.csv\n",
      "VHD_FR0000125338_20170515.csv\n",
      "VHD_FR0000125338_20170516.csv\n",
      "VHD_FR0000125338_20170517.csv\n",
      "VHD_FR0000125338_20170518.csv\n",
      "VHD_FR0000125338_20170519.csv\n",
      "VHD_FR0000125338_20170522.csv\n",
      "VHD_FR0000125338_20170523.csv\n",
      "VHD_FR0000125338_20170524.csv\n",
      "VHD_FR0000125338_20170525.csv\n",
      "VHD_FR0000125338_20170526.csv\n",
      "VHD_FR0000125338_20170529.csv\n",
      "VHD_FR0000125338_20170530.csv\n",
      "VHD_FR0000125338_20170531.csv\n",
      "VHD_FR0000125338_20170601.csv\n",
      "VHD_FR0000125338_20170602.csv\n",
      "VHD_FR0000125338_20170605.csv\n",
      "VHD_FR0000125338_20170606.csv\n",
      "VHD_FR0000125338_20170607.csv\n",
      "VHD_FR0000125338_20170608.csv\n",
      "VHD_FR0000125338_20170609.csv\n",
      "VHD_FR0000125338_20170612.csv\n",
      "VHD_FR0000125338_20170613.csv\n",
      "VHD_FR0000125338_20170614.csv\n",
      "VHD_FR0000125338_20170615.csv\n",
      "VHD_FR0000125338_20170616.csv\n",
      "VHD_FR0000125338_20170619.csv\n",
      "VHD_FR0000125338_20170620.csv\n",
      "VHD_FR0000125338_20170621.csv\n",
      "VHD_FR0000125338_20170622.csv\n",
      "VHD_FR0000125338_20170623.csv\n",
      "VHD_FR0000125338_20170626.csv\n",
      "VHD_FR0000125338_20170627.csv\n",
      "VHD_FR0000125338_20170628.csv\n",
      "VHD_FR0000125338_20170629.csv\n",
      "VHD_FR0000125338_20170630.csv\n",
      "VHD_FR0000125338_20170703.csv\n",
      "VHD_FR0000125338_20170704.csv\n",
      "VHD_FR0000125338_20170705.csv\n",
      "VHD_FR0000125338_20170706.csv\n",
      "VHD_FR0000125338_20170707.csv\n",
      "VHD_FR0000125338_20170710.csv\n",
      "VHD_FR0000125338_20170711.csv\n",
      "VHD_FR0000125338_20170712.csv\n",
      "VHD_FR0000125338_20170713.csv\n",
      "VHD_FR0000125338_20170714.csv\n",
      "VHD_FR0000125338_20170717.csv\n",
      "VHD_FR0000125338_20170718.csv\n",
      "VHD_FR0000125338_20170719.csv\n",
      "VHD_FR0000125338_20170720.csv\n",
      "VHD_FR0000125338_20170721.csv\n",
      "VHD_FR0000125338_20170724.csv\n",
      "VHD_FR0000125338_20170725.csv\n",
      "VHD_FR0000125338_20170726.csv\n",
      "VHD_FR0000125338_20170727.csv\n",
      "VHD_FR0000125338_20170728.csv\n",
      "VHD_FR0000125338_20170731.csv\n",
      "VHD_FR0000125338_20170801.csv\n",
      "VHD_FR0000125338_20170802.csv\n",
      "VHD_FR0000125338_20170803.csv\n",
      "VHD_FR0000125338_20170804.csv\n",
      "VHD_FR0000125338_20170807.csv\n",
      "VHD_FR0000125338_20170808.csv\n",
      "VHD_FR0000125338_20170809.csv\n",
      "VHD_FR0000125338_20170810.csv\n",
      "VHD_FR0000125338_20170811.csv\n",
      "VHD_FR0000125338_20170814.csv\n",
      "VHD_FR0000125338_20170815.csv\n",
      "VHD_FR0000125338_20170816.csv\n",
      "VHD_FR0000125338_20170817.csv\n",
      "VHD_FR0000125338_20170818.csv\n",
      "VHD_FR0000125338_20170821.csv\n",
      "VHD_FR0000125338_20170822.csv\n",
      "VHD_FR0000125338_20170823.csv\n",
      "VHD_FR0000125338_20170824.csv\n",
      "VHD_FR0000125338_20170825.csv\n",
      "VHD_FR0000125338_20170828.csv\n",
      "VHD_FR0000125338_20170829.csv\n",
      "VHD_FR0000125338_20170830.csv\n",
      "VHD_FR0000125338_20170831.csv\n",
      "VHD_FR0000125338_20170901.csv\n",
      "VHD_FR0000125338_20170904.csv\n",
      "VHD_FR0000125338_20170905.csv\n",
      "VHD_FR0000125338_20170906.csv\n",
      "VHD_FR0000125338_20170907.csv\n",
      "VHD_FR0000125338_20170908.csv\n",
      "VHD_FR0000125338_20170911.csv\n",
      "VHD_FR0000125338_20170912.csv\n",
      "VHD_FR0000125338_20170913.csv\n",
      "VHD_FR0000125338_20170914.csv\n",
      "VHD_FR0000125338_20170915.csv\n",
      "VHD_FR0000125338_20170918.csv\n",
      "VHD_FR0000125338_20170919.csv\n",
      "VHD_FR0000125338_20170920.csv\n",
      "VHD_FR0000125338_20170921.csv\n",
      "VHD_FR0000125338_20170922.csv\n",
      "VHD_FR0000125338_20170925.csv\n",
      "VHD_FR0000125338_20170926.csv\n",
      "VHD_FR0000125338_20170927.csv\n",
      "VHD_FR0000125338_20170928.csv\n",
      "VHD_FR0000125338_20170929.csv\n",
      "VHD_FR0000125338_20171002.csv\n",
      "VHD_FR0000125338_20171003.csv\n",
      "VHD_FR0000125338_20171004.csv\n",
      "VHD_FR0000125338_20171005.csv\n",
      "VHD_FR0000125338_20171006.csv\n",
      "VHD_FR0000125338_20171009.csv\n",
      "VHD_FR0000125338_20171010.csv\n",
      "VHD_FR0000125338_20171011.csv\n",
      "VHD_FR0000125338_20171012.csv\n",
      "VHD_FR0000125338_20171013.csv\n",
      "VHD_FR0000125338_20171016.csv\n",
      "VHD_FR0000125338_20171017.csv\n",
      "VHD_FR0000125338_20171018.csv\n",
      "VHD_FR0000125338_20171019.csv\n",
      "VHD_FR0000125338_20171020.csv\n",
      "VHD_FR0000125338_20171023.csv\n",
      "VHD_FR0000125338_20171024.csv\n",
      "VHD_FR0000125338_20171025.csv\n",
      "VHD_FR0000125338_20171026.csv\n",
      "VHD_FR0000125338_20171027.csv\n",
      "VHD_FR0000125338_20171030.csv\n",
      "VHD_FR0000125338_20171031.csv\n",
      "VHD_FR0000125338_20171101.csv\n",
      "VHD_FR0000125338_20171102.csv\n",
      "VHD_FR0000125338_20171103.csv\n",
      "VHD_FR0000125338_20171106.csv\n",
      "VHD_FR0000125338_20171107.csv\n",
      "VHD_FR0000125338_20171108.csv\n",
      "VHD_FR0000125338_20171109.csv\n",
      "VHD_FR0000125338_20171110.csv\n",
      "VHD_FR0000125338_20171113.csv\n",
      "VHD_FR0000125338_20171114.csv\n",
      "VHD_FR0000125338_20171115.csv\n",
      "VHD_FR0000125338_20171116.csv\n",
      "VHD_FR0000125338_20171117.csv\n",
      "VHD_FR0000125338_20171120.csv\n",
      "VHD_FR0000125338_20171121.csv\n",
      "VHD_FR0000125338_20171122.csv\n",
      "VHD_FR0000125338_20171123.csv\n",
      "VHD_FR0000125338_20171124.csv\n",
      "VHD_FR0000125338_20171127.csv\n",
      "VHD_FR0000125338_20171128.csv\n",
      "VHD_FR0000125338_20171129.csv\n",
      "VHD_FR0000125338_20171130.csv\n",
      "VHD_FR0000125338_20171201.csv\n",
      "VHD_FR0000125338_20171204.csv\n",
      "VHD_FR0000125338_20171205.csv\n",
      "VHD_FR0000125338_20171206.csv\n",
      "VHD_FR0000125338_20171207.csv\n",
      "VHD_FR0000125338_20171208.csv\n",
      "VHD_FR0000125338_20171211.csv\n",
      "VHD_FR0000125338_20171212.csv\n",
      "VHD_FR0000125338_20171213.csv\n",
      "VHD_FR0000125338_20171214.csv\n",
      "VHD_FR0000125338_20171215.csv\n",
      "VHD_FR0000125338_20171218.csv\n",
      "VHD_FR0000125338_20171219.csv\n",
      "VHD_FR0000125338_20171220.csv\n",
      "VHD_FR0000125338_20171221.csv\n",
      "VHD_FR0000125338_20171222.csv\n",
      "VHD_FR0000125338_20171227.csv\n",
      "VHD_FR0000125338_20171228.csv\n",
      "VHD_FR0000125338_20171229.csv\n"
     ]
    }
   ],
   "source": [
    "import os\n",
    "isin = 'FR0000125338'\n",
    "origin = '/Volumes/Extreme ssd'\n",
    "\n",
    "# Create dataframe\n",
    "time_series = pd.DataFrame(columns=['Date', 'Price Close'])\n",
    "trade_files = os.listdir(os.path.join(origin, 'BEDOFIH 2017 Structured', 'Trades', isin))\n",
    "\n",
    "# For each file\n",
    "trade_files = os.listdir(os.path.join(origin, 'BEDOFIH 2017 Structured', 'Trades', isin))\n",
    "for file in trade_files:\n",
    "    print(file)\n",
    "    path = os.path.join(origin, 'BEDOFIH 2017 Structured', 'Trades', isin, file)\n",
    "    data = preprocess_trade_file(path)\n",
    "\n",
    "    # Get the date and the price\n",
    "    date = pd.to_datetime(file[-12:-4], format=\"%Y%m%d\").date()\n",
    "    if data.empty == True:\n",
    "        # If there were no trade, close price is close the day before\n",
    "        price = [time_series.iloc[-1, -1]]\n",
    "    else:\n",
    "        price = [data.iloc[-1, data.columns.get_loc('t_price')]]\n",
    "    # Format the row to append\n",
    "    row = pd.DataFrame({\n",
    "        #'Date': [data.iloc[-1, -1].date()],\n",
    "        'Date': date,\n",
    "        'Price Close': price\n",
    "    })\n",
    "    # Append the rows\n",
    "    time_series = time_series.append(row)\n",
    "\n",
    "# Calculate returns\n",
    "time_series['Returns'] = time_series['Price Close'].pct_change()\n",
    "# Save file\n",
    "time_series.set_index('Date', inplace=True)\n",
    "output_path = os.path.join(origin, 'Daily Time Series', isin + '_time_series_2017.csv')\n",
    "time_series.to_csv(output_path)\n",
    "del time_series"
   ]
  },
  {
   "cell_type": "code",
   "execution_count": 45,
   "metadata": {},
   "outputs": [
    {
     "data": {
      "text/html": [
       "<div>\n",
       "<style scoped>\n",
       "    .dataframe tbody tr th:only-of-type {\n",
       "        vertical-align: middle;\n",
       "    }\n",
       "\n",
       "    .dataframe tbody tr th {\n",
       "        vertical-align: top;\n",
       "    }\n",
       "\n",
       "    .dataframe thead th {\n",
       "        text-align: right;\n",
       "    }\n",
       "</style>\n",
       "<table border=\"1\" class=\"dataframe\">\n",
       "  <thead>\n",
       "    <tr style=\"text-align: right;\">\n",
       "      <th></th>\n",
       "      <th>Unnamed: 0</th>\n",
       "    </tr>\n",
       "  </thead>\n",
       "  <tbody>\n",
       "  </tbody>\n",
       "</table>\n",
       "</div>"
      ],
      "text/plain": [
       "Empty DataFrame\n",
       "Columns: [Unnamed: 0]\n",
       "Index: []"
      ]
     },
     "execution_count": 45,
     "metadata": {},
     "output_type": "execute_result"
    }
   ],
   "source": [
    "data_test.head()"
   ]
  },
  {
   "cell_type": "code",
   "execution_count": 16,
   "metadata": {},
   "outputs": [
    {
     "data": {
      "text/plain": [
       "('/Volumes/Extreme ssd/BEDOFIH 2017 Structured/Trades/FR0000125338/VHD_FR0000125338_20171229',\n",
       " '.csv')"
      ]
     },
     "execution_count": 16,
     "metadata": {},
     "output_type": "execute_result"
    }
   ],
   "source": [
    "os.path.splitext(path)"
   ]
  },
  {
   "cell_type": "code",
   "execution_count": 23,
   "metadata": {},
   "outputs": [
    {
     "data": {
      "text/plain": [
       "90     282\n",
       "70     112\n",
       "50      76\n",
       "100     76\n",
       "10      75\n",
       "      ... \n",
       "226      1\n",
       "140      1\n",
       "495      1\n",
       "156      1\n",
       "162      1\n",
       "Name: t_q_exchanged, Length: 245, dtype: int64"
      ]
     },
     "execution_count": 23,
     "metadata": {},
     "output_type": "execute_result"
    }
   ],
   "source": [
    "data['t_q_exchanged'].value_counts()"
   ]
  },
  {
   "cell_type": "code",
   "execution_count": 22,
   "metadata": {},
   "outputs": [
    {
     "name": "stdout",
     "output_type": "stream",
     "text": [
      "Pct volume: 0.8722530552752551\n",
      "Pct value: 0.8721550608495494\n"
     ]
    }
   ],
   "source": [
    "# get totals\n",
    "total_volume = data[(data['t_b_type'] == 'HFT')]['t_q_exchanged'].sum()\n",
    "total_value = data[(data['t_b_type'] == 'HFT')]['t_capital'].sum()\n",
    "\n",
    "# activity attributable to buy hft, slp\n",
    "value_buy_HFT_SLP = data[(data['t_b_type'] == 'HFT') & (data['t_b_account'] == 6)]['t_capital'].sum()\n",
    "volume_buy_HFT_SLP = data[(data['t_b_type'] == 'HFT') & (data['t_b_account'] == 6)]['t_q_exchanged'].sum()\n",
    "\n",
    "# activity attributable to sell hft, slp\n",
    "value_sell_HFT_SLP = data[(data['t_s_type'] == 'HFT') & (data['t_s_account'] == 6)]['t_capital'].sum()\n",
    "volume_sell_HFT_SLP = data[(data['t_s_type'] == 'HFT') & (data['t_s_account'] == 6)]['t_q_exchanged'].sum()\n",
    "\n",
    "# Get pct\n",
    "pct_volume = (volume_buy_HFT_SLP + volume_sell_HFT_SLP) / (2*total_volume)\n",
    "pct_value = (value_buy_HFT_SLP + value_sell_HFT_SLP) / (2*total_value)\n",
    "print(f\"Pct volume: {pct_volume}\")\n",
    "print(f\"Pct value: {pct_value}\")"
   ]
  },
  {
   "cell_type": "code",
   "execution_count": 4,
   "metadata": {},
   "outputs": [
    {
     "data": {
      "text/plain": [
       "104"
      ]
     },
     "execution_count": 4,
     "metadata": {},
     "output_type": "execute_result"
    }
   ],
   "source": [
    "stocks = Stocks()\n",
    "len(stocks.all)"
   ]
  },
  {
   "cell_type": "code",
   "execution_count": 11,
   "metadata": {},
   "outputs": [
    {
     "name": "stderr",
     "output_type": "stream",
     "text": [
      "100%|██████████| 104/104 [07:26<00:00,  4.30s/it]\n"
     ]
    }
   ],
   "source": [
    "import os\n",
    "import pandas as pd\n",
    "\n",
    "#count_max = 0\n",
    "#count_min = 0\n",
    "count_b_date_diff = 0\n",
    "count_s_date_diff = 0\n",
    "\n",
    "folder_path = '/Volumes/Extreme ssd/BEDOFIH 2017 Structured Formatted/Trades'\n",
    "\n",
    "\n",
    "for isin in tqdm(stocks.all):\n",
    "    files = os.listdir(os.path.join(folder_path, isin))\n",
    "    for file in files:\n",
    "        date_str = file[-12:-4]\n",
    "        #date = pd.to_datetime(date_str, format=\"%Y%m%d\").date()\n",
    "\n",
    "        file_path = os.path.join(folder_path, isin, file)\n",
    "        data_test = pd.read_csv(file_path)\n",
    "\n",
    "        #count_max += data_test.t_price_max.count()\n",
    "        #count_min += data_test.t_price_min.count()\n",
    "\n",
    "        count_b_date_diff += (len(data_test.t_d_b_en) - data_test.t_d_b_en.value_counts()[0])\n",
    "        count_s_date_diff += (len(data_test.t_d_s_en) - data_test.t_d_s_en.value_counts()[0])\n",
    "\n",
    "        del data_test"
   ]
  },
  {
   "cell_type": "code",
   "execution_count": 12,
   "metadata": {},
   "outputs": [
    {
     "name": "stdout",
     "output_type": "stream",
     "text": [
      "365426\n",
      "554157\n"
     ]
    }
   ],
   "source": [
    "#print(count_max)\n",
    "#print(count_min)\n",
    "print(count_b_date_diff)\n",
    "print(count_s_date_diff)"
   ]
  },
  {
   "cell_type": "code",
   "execution_count": 16,
   "metadata": {},
   "outputs": [
    {
     "name": "stdout",
     "output_type": "stream",
     "text": [
      "{'Symbol': 'IBM', 'AssetType': 'Common Stock', 'Name': 'International Business Machines', 'Description': 'International Business Machines Corporation (IBM) is an American multinational technology company headquartered in Armonk, New York, with operations in over 170 countries. The company began in 1911, founded in Endicott, New York, as the Computing-Tabulating-Recording Company (CTR) and was renamed International Business Machines in 1924. IBM is incorporated in New York. IBM produces and sells computer hardware, middleware and software, and provides hosting and consulting services in areas ranging from mainframe computers to nanotechnology. IBM is also a major research organization, holding the record for most annual U.S. patents generated by a business (as of 2020) for 28 consecutive years. Inventions by IBM include the automated teller machine (ATM), the floppy disk, the hard disk drive, the magnetic stripe card, the relational database, the SQL programming language, the UPC barcode, and dynamic random-access memory (DRAM). The IBM mainframe, exemplified by the System/360, was the dominant computing platform during the 1960s and 1970s.', 'CIK': '51143', 'Exchange': 'NYSE', 'Currency': 'USD', 'Country': 'USA', 'Sector': 'TECHNOLOGY', 'Industry': 'COMPUTER & OFFICE EQUIPMENT', 'Address': '1 NEW ORCHARD ROAD, ARMONK, NY, US', 'FiscalYearEnd': 'December', 'LatestQuarter': '2023-06-30', 'MarketCapitalization': '133881537000', 'EBITDA': '12985000000', 'PERatio': '62.8', 'PEGRatio': '1.276', 'BookValue': '24.37', 'DividendPerShare': '6.61', 'DividendYield': '0.0447', 'EPS': '2.34', 'RevenuePerShareTTM': '66.75', 'ProfitMargin': '0.0335', 'OperatingMarginTTM': '0.141', 'ReturnOnAssetsTTM': '0.0411', 'ReturnOnEquityTTM': '0.104', 'RevenueTTM': '60524999000', 'GrossProfitTTM': '32688000000', 'DilutedEPSTTM': '2.34', 'QuarterlyEarningsGrowthYOY': '0.126', 'QuarterlyRevenueGrowthYOY': '-0.004', 'AnalystTargetPrice': '133.05', 'TrailingPE': '62.8', 'ForwardPE': '15.55', 'PriceToSalesRatioTTM': '2.108', 'PriceToBookRatio': '6.75', 'EVToRevenue': '2.969', 'EVToEBITDA': '25.81', 'Beta': '0.85', '52WeekHigh': '149', '52WeekLow': '110.02', '50DayMovingAverage': '141.73', '200DayMovingAverage': '135.71', 'SharesOutstanding': '911006000', 'DividendDate': '2023-09-09', 'ExDividendDate': '2023-08-09'}\n"
     ]
    }
   ],
   "source": [
    "import requests\n",
    "\n",
    "# replace the \"demo\" apikey below with your own key from https://www.alphavantage.co/support/#api-key\n",
    "api_key = 'FDCQGZHXBXV66JIR'\n",
    "symbol = \n",
    "url = f'https://www.alphavantage.co/query?function=OVERVIEW&symbol={symbol}&apikey={api_key}'\n",
    "r = requests.get(url)\n",
    "data = r.json()\n",
    "#MarketCapitalization\n",
    "print(data)"
   ]
  },
  {
   "cell_type": "code",
   "execution_count": 42,
   "metadata": {},
   "outputs": [
    {
     "name": "stdout",
     "output_type": "stream",
     "text": [
      "ALD SA (FR0013258662), CGG (FR0013181864), Eramet SA (FR0000131757), Fnac Darty SA (FR0011476928), Havas (FR0000121881), Innate Pharma (FR0010331421), Maisons du Monde SA (FR0013153541), Maurel Prom (FR0000051070), Nokia (FI0009000681), SFR (Altice fr) (FR0011594233), Soitec SA (FR0013227113), Tarkett SA (FR0004188670), Technip SA (FR0000131708), TechnipFMC PLC (GB00BDSFG982), \n"
     ]
    }
   ],
   "source": [
    "string = ''\n",
    "data_for_str = stocks.data[(stocks.data.sbf_beg == False) | (stocks.data.sbf_end == False)][['isin_id', 'name']]\n",
    "for index, row in data_for_str.iterrows():\n",
    "    string = string + row['name'] + f' ({row.isin_id}), '\n",
    "\n",
    "print(string)"
   ]
  },
  {
   "cell_type": "code",
   "execution_count": 43,
   "metadata": {},
   "outputs": [
    {
     "name": "stdout",
     "output_type": "stream",
     "text": [
      "ALD SA (FR0013258662), Aperam (nan), Arcelor Mittal (nan), Biomerieux SA (FR0013280286), Gemalto NL (nan), Havas (FR0000121881), Maurel Prom (FR0000051070), Rubis SCA (FR0013269123), SFR (Altice fr) (FR0011594233), Soitec SA (FR0013227113), Solvay (nan), Technip SA (FR0000131708), TechnipFMC PLC (GB00BDSFG982), Unibail-Rodamco-Westfield SE (FR0011321330), \n"
     ]
    }
   ],
   "source": [
    "string = ''\n",
    "data_for_str = stocks.data[stocks.data.days_of_data != 255][['isin_id', 'name']]\n",
    "for index, row in data_for_str.iterrows():\n",
    "    string = string + row['name'] + f' ({row.isin_id}), '\n",
    "\n",
    "print(string)"
   ]
  },
  {
   "cell_type": "markdown",
   "metadata": {},
   "source": [
    "# Presence HFT during auctions"
   ]
  },
  {
   "cell_type": "code",
   "execution_count": 56,
   "metadata": {},
   "outputs": [
    {
     "name": "stderr",
     "output_type": "stream",
     "text": [
      "100%|██████████| 104/104 [07:50<00:00,  4.53s/it]\n"
     ]
    }
   ],
   "source": [
    "import os\n",
    "import pandas as pd\n",
    "\n",
    "types = ['MIX', 'HFT', 'NON']\n",
    "\n",
    "#count_max = 0\n",
    "#count_min = 0\n",
    "count_b_date_diff = 0\n",
    "count_s_date_diff = 0\n",
    "\n",
    "folder_path = '/Volumes/Extreme ssd/BEDOFIH 2017 Structured Formatted/Trades'\n",
    "\n",
    "\n",
    "for isin in tqdm(stocks.all):\n",
    "    files = os.listdir(os.path.join(folder_path, isin))\n",
    "    for file in files:\n",
    "        date_str = file[-12:-4]\n",
    "        #date = pd.to_datetime(date_str, format=\"%Y%m%d\").date()\n",
    "\n",
    "        file_path = os.path.join(folder_path, isin, file)\n",
    "        data_test = pd.read_csv(file_path)\n",
    "\n",
    "        #count_max += data_test.t_price_max.count()\n",
    "        #count_min += data_test.t_price_min.count()\n",
    "\n",
    "        #count_b_date_diff += (len(data_test.t_d_b_en) - data_test.t_d_b_en.value_counts()[0])\n",
    "        #count_s_date_diff += (len(data_test.t_d_s_en) - data_test.t_d_s_en.value_counts()[0])\n",
    "\n",
    "        a = data_test.t_b_type.value_counts()\n",
    "        b = data_test.t_s_type.value_counts()\n",
    "\n",
    "        for _ in a.index:\n",
    "            if _ not in types:\n",
    "                types.append(_)\n",
    "        for _ in b.index:\n",
    "            if _ not in types:\n",
    "                types.append(_)\n",
    "\n",
    "        del data_test\n",
    "        \n"
   ]
  },
  {
   "cell_type": "code",
   "execution_count": 57,
   "metadata": {},
   "outputs": [
    {
     "name": "stdout",
     "output_type": "stream",
     "text": [
      "['MIX', 'HFT', 'NON']\n"
     ]
    }
   ],
   "source": [
    "print(types)"
   ]
  },
  {
   "cell_type": "code",
   "execution_count": 12,
   "metadata": {},
   "outputs": [
    {
     "name": "stderr",
     "output_type": "stream",
     "text": [
      "100%|██████████| 104/104 [28:53<00:00, 16.67s/it]  \n"
     ]
    }
   ],
   "source": [
    "import os\n",
    "import pandas as pd\n",
    "\n",
    "\n",
    "\n",
    "results = pd.DataFrame()\n",
    "folder_path = '/Volumes/Extreme ssd/BEDOFIH 2017 Structured Formatted/Trades'\n",
    "\n",
    "for isin in tqdm(stocks.all):\n",
    "    volume_hft_continuous = 0\n",
    "    volume_mix_continuous = 0\n",
    "    volume_total_continuous = 0\n",
    "    volume_hft_auction = 0\n",
    "    volume_mix_auction = 0\n",
    "    volume_total_auction = 0\n",
    "    \n",
    "    value_hft_continuous = 0\n",
    "    value_mix_continuous = 0\n",
    "    value_total_continuous = 0\n",
    "    value_hft_auction = 0\n",
    "    value_mix_auction = 0\n",
    "    value_total_auction = 0\n",
    "\n",
    "    files = os.listdir(os.path.join(folder_path, isin))\n",
    "    for file in files:\n",
    "        file_path = os.path.join(folder_path, isin, file)\n",
    "        trades = pd.read_csv(file_path)\n",
    "        \n",
    "        \n",
    "\n",
    "\n",
    "        volume_hft_continuous += (trades[(trades.t_agg.isna() == False) & (trades.t_b_type == 'HFT')].t_q_exchanged \n",
    "                                  + trades[(trades.t_agg.isna() == False) & (trades.t_s_type == 'HFT')].t_q_exchanged).sum()\n",
    "        volume_mix_continuous += (trades[(trades.t_agg.isna() == False) & (trades.t_b_type == 'MIX')].t_q_exchanged \n",
    "                                  + trades[(trades.t_agg.isna() == False) & (trades.t_s_type == 'MIX')].t_q_exchanged).sum()\n",
    "        volume_total_continuous += trades[trades.t_agg.isna() == False].t_q_exchanged.sum()\n",
    "        volume_hft_auction += (trades[trades.t_agg.isna() & (trades.t_b_type == 'HFT')].t_q_exchanged \n",
    "                                + trades[trades.t_agg.isna() & (trades.t_s_type == 'HFT')].t_q_exchanged).sum()\n",
    "        volume_mix_auction += (trades[trades.t_agg.isna() & (trades.t_b_type == 'MIX')].t_q_exchanged \n",
    "                                + trades[trades.t_agg.isna() & (trades.t_s_type == 'MIX')].t_q_exchanged).sum()\n",
    "        volume_total_auction += trades[trades.t_agg.isna()].t_q_exchanged.sum()\n",
    "        \n",
    "        value_hft_continuous += (trades[(trades.t_agg.isna() == False) & (trades.t_b_type == 'HFT')].t_capital \n",
    "                                  + trades[(trades.t_agg.isna() == False) & (trades.t_s_type == 'HFT')].t_capital).sum()\n",
    "        value_mix_continuous += (trades[(trades.t_agg.isna() == False) & (trades.t_b_type == 'MIX')].t_capital \n",
    "                                  + trades[(trades.t_agg.isna() == False) & (trades.t_s_type == 'MIX')].t_capital).sum()\n",
    "        value_total_continuous += trades[trades.t_agg.isna() == False].t_capital.sum()\n",
    "        value_hft_auction += (trades[trades.t_agg.isna() & (trades.t_b_type == 'HFT')].t_capital \n",
    "                                + trades[trades.t_agg.isna() & (trades.t_s_type == 'HFT')].t_capital).sum()\n",
    "        value_mix_auction += (trades[trades.t_agg.isna() & (trades.t_b_type == 'MIX')].t_capital \n",
    "                                + trades[trades.t_agg.isna() & (trades.t_s_type == 'MIX')].t_capital).sum()\n",
    "        value_total_auction += trades[trades.t_agg.isna()].t_capital.sum()\n",
    "\n",
    "        del trades\n",
    "\n",
    "    volume_non_continuous = 2 * volume_total_continuous - (volume_hft_continuous + volume_mix_continuous)\n",
    "    volume_non_auction = 2 * volume_total_auction - (volume_hft_auction + volume_mix_auction)\n",
    "    value_non_continuous = 2 * value_total_continuous - (value_hft_continuous + value_mix_continuous)\n",
    "    value_non_auction = 2 * value_total_auction - (value_hft_auction + value_mix_auction)\n",
    "        \n",
    "    results.loc[isin, 'volume_hft_continuous'] = volume_hft_continuous\n",
    "    results.loc[isin, 'volume_mix_continuous'] = volume_mix_continuous\n",
    "    results.loc[isin, 'volume_non_continuous'] = volume_non_continuous\n",
    "    results.loc[isin, 'volume_total_continuous'] = volume_total_continuous\n",
    "    results.loc[isin, 'volume_hft_auction'] = volume_hft_auction\n",
    "    results.loc[isin, 'volume_mix_auction'] = volume_mix_auction\n",
    "    results.loc[isin, 'volume_non_auction'] = volume_non_auction\n",
    "    results.loc[isin, 'volume_total_auction'] = volume_total_auction\n",
    "    \n",
    "\n",
    "    results.loc[isin, 'value_hft_continuous'] = value_hft_continuous\n",
    "    results.loc[isin, 'value_mix_continuous'] = value_mix_continuous\n",
    "    results.loc[isin, 'value_non_continuous'] = value_non_continuous\n",
    "    results.loc[isin, 'value_total_continuous'] = value_total_continuous\n",
    "    results.loc[isin, 'value_hft_auction'] = value_hft_auction\n",
    "    results.loc[isin, 'value_mix_auction'] = value_mix_auction\n",
    "    results.loc[isin, 'value_non_auction'] = value_non_auction\n",
    "    results.loc[isin, 'value_total_auction'] = value_total_auction\n",
    "\n",
    "    #% that hft trade of total auction = vol hft auction/vol total auction\n",
    "    results.loc[isin, 'volume_hft_auction_as_pct_of_total_auction'] = volume_hft_auction / (2*volume_total_auction)\n",
    "    results.loc[isin, 'value_hft_auction_as_pct_of_total_auction'] = value_hft_auction / (2*value_total_auction)\n",
    "\n",
    "    results.loc[isin, 'volume_mix_auction_as_pct_of_total_auction'] = volume_mix_auction / (2*volume_total_auction)\n",
    "    results.loc[isin, 'value_mix_auction_as_pct_of_total_auction'] = value_mix_auction / (2*value_total_auction)\n",
    "\n",
    "    results.loc[isin, 'volume_non_auction_as_pct_of_total_auction'] = volume_non_auction / (2*volume_total_auction)\n",
    "    results.loc[isin, 'value_non_auction_as_pct_of_total_auction'] = value_non_auction / (2*value_total_auction)\n",
    "    #% of what hft trade during day = vol hft auction / (vol hft auction + vol hft continuous)\n",
    "    results.loc[isin, 'volume_hft_auction_as_pct_of_total_hft'] = volume_hft_auction / (volume_hft_auction + volume_hft_continuous)\n",
    "    results.loc[isin, 'value_hft_auction_as_pct_of_total_hft'] = value_hft_auction / (value_hft_auction + value_hft_continuous)\n",
    "\n",
    "    results.loc[isin, 'volume_mix_auction_as_pct_of_total_mix'] = volume_mix_auction / (volume_mix_auction + volume_mix_continuous)\n",
    "    results.loc[isin, 'value_mix_auction_as_pct_of_total_mix'] = value_mix_auction / (value_mix_auction + value_mix_continuous)\n",
    "\n",
    "    results.loc[isin, 'volume_non_auction_as_pct_of_total_non'] = volume_non_auction / (volume_non_auction + volume_non_continuous)\n",
    "    results.loc[isin, 'value_non_auction_as_pct_of_total_non'] = value_non_auction / (value_non_auction + value_non_continuous)\n",
    "    #% total day = vol hft auction / (volume_total_auction + volume_total_continuous)\n",
    "    results.loc[isin, 'volume_hft_auction_as_pct_of_total'] = volume_hft_auction / (2 * (volume_total_auction + volume_total_continuous))\n",
    "    results.loc[isin, 'value_hft_auction_as_pct_of_total'] = value_hft_auction / (2 * (value_total_auction + value_total_continuous))\n",
    "\n",
    "    results.loc[isin, 'volume_mix_auction_as_pct_of_total'] = volume_mix_auction / (2 * (volume_total_auction + volume_total_continuous))\n",
    "    results.loc[isin, 'value_mix_auction_as_pct_of_total'] = value_mix_auction / (2 * (value_total_auction + value_total_continuous))\n",
    "\n",
    "    results.loc[isin, 'volume_non_auction_as_pct_of_total'] = volume_non_auction / (2 * (volume_total_auction + volume_total_continuous))\n",
    "    results.loc[isin, 'value_non_auction_as_pct_of_total'] = value_non_auction / (2 * (value_total_auction + value_total_continuous))\n",
    "    #% hft during continuous phase = volume_hft_continuous / volume_total_continuous\n",
    "    results.loc[isin, 'volume_hft_continuous_as_pct_of_total_continuous'] = volume_hft_continuous / (2 * volume_total_continuous)\n",
    "    results.loc[isin, 'value_hft_continuous_as_pct_of_total_continuous'] = value_hft_continuous / (2 * value_total_continuous)\n",
    "\n",
    "    results.loc[isin, 'volume_mix_continuous_as_pct_of_total_continuous'] = volume_mix_continuous / (2 * volume_total_continuous)\n",
    "    results.loc[isin, 'value_mix_continuous_as_pct_of_total_continuous'] = value_mix_continuous / (2 * value_total_continuous)\n",
    "\n",
    "    results.loc[isin, 'volume_non_continuous_as_pct_of_total_continuous'] = volume_non_continuous / (2 * volume_total_continuous)\n",
    "    results.loc[isin, 'value_non_continuous_as_pct_of_total_continuous'] = value_non_continuous / (2 * value_total_continuous)\n",
    "    #break\n",
    "\n",
    "results.to_excel('/Users/australien/Documents/IESEG/Master 2/Thesis/Ouputs/market_share_auction_continuous.xlsx')\n",
    "\n",
    "\n"
   ]
  },
  {
   "cell_type": "code",
   "execution_count": 13,
   "metadata": {},
   "outputs": [],
   "source": [
    "import pandas as pd\n",
    "path = '/Volumes/Extreme ssd/orders/CH0012214059/VHOX_CH0012214059_20170102.parquet'\n",
    "df = pd.read_parquet(path)"
   ]
  },
  {
   "cell_type": "code",
   "execution_count": null,
   "metadata": {},
   "outputs": [],
   "source": []
  }
 ],
 "metadata": {
  "kernelspec": {
   "display_name": "envIeseg",
   "language": "python",
   "name": "python3"
  },
  "language_info": {
   "codemirror_mode": {
    "name": "ipython",
    "version": 3
   },
   "file_extension": ".py",
   "mimetype": "text/x-python",
   "name": "python",
   "nbconvert_exporter": "python",
   "pygments_lexer": "ipython3",
   "version": "3.7.12"
  },
  "orig_nbformat": 4
 },
 "nbformat": 4,
 "nbformat_minor": 2
}
