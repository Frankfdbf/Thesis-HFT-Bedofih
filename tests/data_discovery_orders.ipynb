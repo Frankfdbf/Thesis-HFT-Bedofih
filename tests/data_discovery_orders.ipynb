{
 "cells": [
  {
   "cell_type": "code",
   "execution_count": null,
   "metadata": {},
   "outputs": [],
   "source": [
    "# Import Built-Ins\n",
    "import datetime\n",
    "from copy import deepcopy\n",
    "# Import Third-Party\n",
    "import pandas as pd\n",
    "import numpy as np\n",
    "import matplotlib.pyplot as plt\n",
    "import seaborn as sns\n",
    "from tqdm import tqdm\n",
    "\n",
    "# Import Homebrew\n",
    "from utilities.functions import timeit, preprocess_order_file, create_limit_order_book\n",
    "from utilities.limit_order_book_og import LimitOrderBookOg, OrderOg\n",
    "from utilities.limit_order_book import LimitOrderBook, Order\n",
    "\n",
    "\n",
    "pd.set_option('display.max_columns', None)\n",
    "sns.set()\n",
    "timestamp = datetime.datetime(year=2017, month=1, day=2, hour=11, minute=30)"
   ]
  },
  {
   "attachments": {},
   "cell_type": "markdown",
   "metadata": {},
   "source": [
    "# Data formating"
   ]
  },
  {
   "cell_type": "code",
   "execution_count": null,
   "metadata": {},
   "outputs": [],
   "source": [
    "path = '/Users/australien/Documents/IESEG/Master 2/Thesis/BEDOFIH 2017/Data/01/20170102/AA0000000000-AN8068571086/AN8068571086/VHOX_AN8068571086_20170102.csv'"
   ]
  },
  {
   "cell_type": "code",
   "execution_count": null,
   "metadata": {},
   "outputs": [],
   "source": [
    "data_test = preprocess_order_file(path=path, save=False)\n",
    "data_test.head()"
   ]
  },
  {
   "cell_type": "code",
   "execution_count": null,
   "metadata": {},
   "outputs": [],
   "source": [
    "data_test.to_csv(\"/Users/australien/Downloads/VHOX_orders_test_processed.csv\")"
   ]
  },
  {
   "attachments": {},
   "cell_type": "markdown",
   "metadata": {},
   "source": [
    "# Data discovery"
   ]
  },
  {
   "cell_type": "code",
   "execution_count": null,
   "metadata": {},
   "outputs": [],
   "source": [
    "data = data_test.copy()\n",
    "data.info()"
   ]
  },
  {
   "cell_type": "code",
   "execution_count": null,
   "metadata": {},
   "outputs": [],
   "source": [
    "data[data.o_id_fd == 17568959537]"
   ]
  },
  {
   "cell_type": "code",
   "execution_count": null,
   "metadata": {},
   "outputs": [],
   "source": [
    "data[data['o_state']=='4'].head()"
   ]
  },
  {
   "cell_type": "code",
   "execution_count": null,
   "metadata": {},
   "outputs": [],
   "source": [
    "data[data['o_type']=='1'].head()"
   ]
  },
  {
   "attachments": {},
   "cell_type": "markdown",
   "metadata": {},
   "source": [
    "# Limit order book (All data)\n",
    "## Creation"
   ]
  },
  {
   "cell_type": "code",
   "execution_count": null,
   "metadata": {},
   "outputs": [],
   "source": [
    "\"\"\"\n",
    "timestamp_test = data.loc[74851, 'time_validity']\n",
    "timestamp_issue = data[(data['o_id_fd'] == 5491124529) & (data['o_id_cha'] == 6)].iloc[0,:].time_submission\n",
    "timestamp_issue\n",
    "lob = create_limit_order_book(data, timestamp_issue)\n",
    "\"\"\"\n",
    "\n",
    "lob = create_limit_order_book(orders=data[:131], limit_timestamp=timestamp)"
   ]
  },
  {
   "cell_type": "code",
   "execution_count": null,
   "metadata": {},
   "outputs": [],
   "source": [
    "lob.levels(50)['bids']"
   ]
  },
  {
   "cell_type": "code",
   "execution_count": null,
   "metadata": {},
   "outputs": [],
   "source": [
    "lob.levels(5)['asks']"
   ]
  },
  {
   "cell_type": "code",
   "execution_count": null,
   "metadata": {},
   "outputs": [],
   "source": [
    "lob._orders"
   ]
  },
  {
   "cell_type": "code",
   "execution_count": null,
   "metadata": {},
   "outputs": [],
   "source": [
    "\n",
    "#lob = create_limit_order_book(data_issue, timestamp)\n",
    "lob = create_limit_order_book(data, timestamp)\n",
    "lob._price_levels\n"
   ]
  },
  {
   "attachments": {},
   "cell_type": "markdown",
   "metadata": {},
   "source": [
    "## Exploration of capabilities"
   ]
  },
  {
   "cell_type": "code",
   "execution_count": null,
   "metadata": {},
   "outputs": [],
   "source": [
    "print(lob.best_ask.orders.head)"
   ]
  },
  {
   "cell_type": "code",
   "execution_count": null,
   "metadata": {},
   "outputs": [],
   "source": [
    "lob._orders[5491124525]"
   ]
  },
  {
   "cell_type": "code",
   "execution_count": null,
   "metadata": {},
   "outputs": [],
   "source": [
    "row = data.iloc[74852, :]\n",
    "if row.o_type == '2':\n",
    "    time_validity = row.time_validity\n",
    "    id = row.o_id_fd\n",
    "    char_id = row.o_id_cha\n",
    "    is_bid = True if row.o_bs == 'B' else False\n",
    "    ini_size = row.o_q_ini\n",
    "    neg_size = row.o_q_neg\n",
    "    rem_size = row.o_q_rem\n",
    "    price = row.o_price\n",
    "    state = row.o_state\n",
    "    o_type = row.o_type\n",
    "    account = row.o_account\n",
    "    hft_flag = row.o_member\n",
    "    time_submission = row.time_submission\n",
    "    order = Order(uid=id, char_id=char_id, is_bid=is_bid, ini_size=ini_size, neg_size=neg_size, \n",
    "                    rem_size=rem_size, price=price, state=state, type=o_type, account=account, \n",
    "                    hft_flag=hft_flag, sub_timestamp=time_submission, val_timestamp=time_validity)\n",
    "order"
   ]
  },
  {
   "cell_type": "code",
   "execution_count": null,
   "metadata": {},
   "outputs": [],
   "source": [
    "lob.process(order)"
   ]
  },
  {
   "cell_type": "code",
   "execution_count": null,
   "metadata": {},
   "outputs": [],
   "source": [
    "lob._price_levels"
   ]
  },
  {
   "cell_type": "code",
   "execution_count": null,
   "metadata": {},
   "outputs": [],
   "source": [
    "lob.top_level"
   ]
  },
  {
   "cell_type": "code",
   "execution_count": null,
   "metadata": {},
   "outputs": [],
   "source": [
    "print(lob.best_ask)\n",
    "print(lob.best_bid)"
   ]
  },
  {
   "cell_type": "code",
   "execution_count": null,
   "metadata": {},
   "outputs": [],
   "source": [
    "lob_copy = deepcopy(lob)"
   ]
  },
  {
   "attachments": {},
   "cell_type": "markdown",
   "metadata": {},
   "source": [
    "# Test of order update (One order)"
   ]
  },
  {
   "cell_type": "code",
   "execution_count": null,
   "metadata": {},
   "outputs": [],
   "source": [
    "# Find id or order with 337 updates\n",
    "id = data[data['o_id_cha'] == 337]['o_id_fd'].iloc[0]\n",
    "data_test = data[data['o_id_fd'] == id].sort_values(by='o_id_cha')\n",
    "#data_test.to_excel('/Users/australien/Downloads/one_order_updated_2.xlsx')\n",
    "data_test.tail()"
   ]
  },
  {
   "cell_type": "code",
   "execution_count": null,
   "metadata": {},
   "outputs": [],
   "source": [
    "\n",
    "lob_test = create_limit_order_book(data_test, timestamp)\n",
    "lob_test._orders"
   ]
  },
  {
   "cell_type": "code",
   "execution_count": null,
   "metadata": {},
   "outputs": [],
   "source": []
  },
  {
   "cell_type": "code",
   "execution_count": null,
   "metadata": {},
   "outputs": [],
   "source": [
    "lob.levels(2)"
   ]
  },
  {
   "cell_type": "code",
   "execution_count": 20,
   "metadata": {},
   "outputs": [
    {
     "data": {
      "text/plain": [
       "datetime.time(9, 0, 13, 10191)"
      ]
     },
     "execution_count": 20,
     "metadata": {},
     "output_type": "execute_result"
    }
   ],
   "source": [
    "import pandas as pd\n",
    "\n",
    "\n",
    "path = '/Volumes/Extreme ssd/trades/CH0012214059/VHD_CH0012214059_20170102.csv'\n",
    "\n",
    "data = pd.read_csv(path)\n",
    "data['t_dtm_neg'] = pd.to_datetime(data['t_dtm_neg'])\n",
    "date = data.iloc[0].t_dtm_neg.time()\n",
    "date"
   ]
  },
  {
   "cell_type": "code",
   "execution_count": 22,
   "metadata": {},
   "outputs": [
    {
     "data": {
      "text/plain": [
       "True"
      ]
     },
     "execution_count": 22,
     "metadata": {},
     "output_type": "execute_result"
    }
   ],
   "source": [
    "import datetime\n",
    "CLOSING_AUCTION_CUTOFF = datetime.time(hour=18, minute=35, second=0)\n",
    "\n",
    "df = data[data.t_dtm_neg.dt.time > CLOSING_AUCTION_CUTOFF]\n",
    "df.empty"
   ]
  },
  {
   "cell_type": "code",
   "execution_count": 17,
   "metadata": {},
   "outputs": [],
   "source": [
    "dtypes = {\n",
    "        'o_seq': 'int32',\n",
    "        'o_isin': 'string',\n",
    "        'o_d_i': 'string',\n",
    "        'o_t_i': 'string',\n",
    "        'o_cha_id': 'int16',\n",
    "        'o_id_fd': 'int64',\n",
    "        'o_d_be': 'string',\n",
    "        'o_t_be': 'string',\n",
    "        'o_m_be': 'int32',\n",
    "        'o_d_br': 'string',\n",
    "        'o_t_br': 'string',\n",
    "        'o_m_br': 'int32',\n",
    "        'o_d_va': 'string',\n",
    "        'o_t_va': 'string',\n",
    "        'o_m_va': 'int32',\n",
    "        'o_d_mo': 'string',\n",
    "        'o_t_mo': 'string',\n",
    "        'o_m_mo': 'float64',\n",
    "        'o_d_en': 'string',\n",
    "        'o_t_en': 'string',\n",
    "        'o_sq_nb': 'int32',\n",
    "        'o_sq_nbm': 'int32',\n",
    "        'o_d_p': 'string',\n",
    "        'o_t_p': 'string',\n",
    "        'o_m_p': 'float64',\n",
    "        'o_state': 'category',\n",
    "        'o_currency': 'category',\n",
    "        'o_bs': 'category',\n",
    "        'o_type': 'category',\n",
    "        'o_execution': 'category',\n",
    "        'o_validity': 'category',\n",
    "        'o_d_expiration': 'string',\n",
    "        'o_t_expiration': 'string',\n",
    "        'o_price': 'float64',\n",
    "        'o_price_stop': 'float64',\n",
    "        'o_price_dfpg': 'int8',\n",
    "        'o_disoff': 'int8',\n",
    "        'o_q_ini': 'int32',\n",
    "        'o_q_min': 'int32',\n",
    "        'o_q_dis': 'int32',\n",
    "        'o_q_neg': 'int32',\n",
    "        'o_app': 'category',\n",
    "        'o_origin': 'category',\n",
    "        'o_account': 'category',\n",
    "        'o_nb_tr': 'int16',\n",
    "        'o_q_rem': 'int32',\n",
    "        'o_d_upd': 'string',\n",
    "        'o_t_upd': 'string',\n",
    "        'o_member': 'string',\n",
    "    }"
   ]
  },
  {
   "cell_type": "code",
   "execution_count": 3,
   "metadata": {},
   "outputs": [
    {
     "data": {
      "text/plain": [
       "o_seq               int64\n",
       "o_isin             object\n",
       "o_d_i               int64\n",
       "o_t_i              object\n",
       "o_cha_id            int64\n",
       "o_id_fd             int64\n",
       "o_d_be              int64\n",
       "o_t_be             object\n",
       "o_m_be              int64\n",
       "o_d_br              int64\n",
       "o_t_br             object\n",
       "o_m_br              int64\n",
       "o_d_va              int64\n",
       "o_t_va             object\n",
       "o_m_va              int64\n",
       "o_d_mo            float64\n",
       "o_t_mo             object\n",
       "o_m_mo            float64\n",
       "o_d_en              int64\n",
       "o_t_en             object\n",
       "o_sq_nb             int64\n",
       "o_sq_nbm            int64\n",
       "o_d_p             float64\n",
       "o_t_p              object\n",
       "o_m_p             float64\n",
       "o_state            object\n",
       "o_currency         object\n",
       "o_bs               object\n",
       "o_type             object\n",
       "o_execution       float64\n",
       "o_validity          int64\n",
       "o_d_expiration      int64\n",
       "o_t_expiration     object\n",
       "o_price           float64\n",
       "o_price_sto p     float64\n",
       "o_price_dfp g       int64\n",
       "o_disoff            int64\n",
       "o_q_ini             int64\n",
       "o_q_min             int64\n",
       "o_q_dis             int64\n",
       "o_q_neg             int64\n",
       "o_app               int64\n",
       "o_origin           object\n",
       "o_account           int64\n",
       "o_nb_tr             int64\n",
       "o_q_rem             int64\n",
       "o_d_upd             int64\n",
       "o_t_upd            object\n",
       "o_member           object\n",
       "dtype: object"
      ]
     },
     "execution_count": 3,
     "metadata": {},
     "output_type": "execute_result"
    }
   ],
   "source": [
    "import pandas as pd\n",
    "\n",
    "columns = [\n",
    "        'o_seq',\n",
    "        'o_isin',\n",
    "        'o_d_i',\n",
    "        'o_t_i',\n",
    "        'o_cha_id',\n",
    "        'o_id_fd',\n",
    "        'o_d_be',\n",
    "        'o_t_be',\n",
    "        'o_m_be',\n",
    "        'o_d_br',\n",
    "        'o_t_br',\n",
    "        'o_m_br',\n",
    "        'o_d_va',\n",
    "        'o_t_va',\n",
    "        'o_m_va',\n",
    "        'o_d_mo',\n",
    "        'o_t_mo',\n",
    "        'o_m_mo',\n",
    "        'o_d_en',\n",
    "        'o_t_en',\n",
    "        'o_sq_nb',\n",
    "        'o_sq_nbm',\n",
    "        'o_d_p',\n",
    "        'o_t_p',\n",
    "        'o_m_p',\n",
    "        'o_state',\n",
    "        'o_currency',\n",
    "        'o_bs',\n",
    "        'o_type',\n",
    "        'o_execution',\n",
    "        'o_validity',\n",
    "        'o_d_expiration',\n",
    "        'o_t_expiration',\n",
    "        'o_price',\n",
    "        'o_price_sto p',\n",
    "        'o_price_dfp g',\n",
    "        'o_disoff',\n",
    "        'o_q_ini',\n",
    "        'o_q_min',\n",
    "        'o_q_dis',\n",
    "        'o_q_neg',\n",
    "        'o_app',\n",
    "        'o_origin',\n",
    "        'o_account',\n",
    "        'o_nb_tr',\n",
    "        'o_q_rem',\n",
    "        'o_d_upd',\n",
    "        'o_t_upd',\n",
    "        'o_member',\n",
    "    ]\n",
    "\n",
    "path = '/Volumes/Extreme ssd/raw/01/20170102/DE000HV0JKP4-FR0000572349/FR0000062671/VHOX_FR0000062671_20170102.csv'\n",
    "df = pd.read_csv(path, names=columns)\n",
    "df.dtypes"
   ]
  },
  {
   "cell_type": "code",
   "execution_count": 20,
   "metadata": {},
   "outputs": [
    {
     "data": {
      "text/html": [
       "<div>\n",
       "<style scoped>\n",
       "    .dataframe tbody tr th:only-of-type {\n",
       "        vertical-align: middle;\n",
       "    }\n",
       "\n",
       "    .dataframe tbody tr th {\n",
       "        vertical-align: top;\n",
       "    }\n",
       "\n",
       "    .dataframe thead th {\n",
       "        text-align: right;\n",
       "    }\n",
       "</style>\n",
       "<table border=\"1\" class=\"dataframe\">\n",
       "  <thead>\n",
       "    <tr style=\"text-align: right;\">\n",
       "      <th></th>\n",
       "      <th>o_seq</th>\n",
       "      <th>o_isin</th>\n",
       "      <th>o_d_i</th>\n",
       "      <th>o_t_i</th>\n",
       "      <th>o_cha_id</th>\n",
       "      <th>o_id_fd</th>\n",
       "      <th>o_d_be</th>\n",
       "      <th>o_t_be</th>\n",
       "      <th>o_m_be</th>\n",
       "      <th>o_d_br</th>\n",
       "      <th>...</th>\n",
       "      <th>o_q_dis</th>\n",
       "      <th>o_q_neg</th>\n",
       "      <th>o_app</th>\n",
       "      <th>o_origin</th>\n",
       "      <th>o_account</th>\n",
       "      <th>o_nb_tr</th>\n",
       "      <th>o_q_rem</th>\n",
       "      <th>o_d_upd</th>\n",
       "      <th>o_t_upd</th>\n",
       "      <th>o_member</th>\n",
       "    </tr>\n",
       "  </thead>\n",
       "  <tbody>\n",
       "    <tr>\n",
       "      <th>0</th>\n",
       "      <td>16705</td>\n",
       "      <td>FR0000062671</td>\n",
       "      <td>20170102</td>\n",
       "      <td>00:00:00</td>\n",
       "      <td>1</td>\n",
       "      <td>17566113170</td>\n",
       "      <td>20170102</td>\n",
       "      <td>07:15:04</td>\n",
       "      <td>74899</td>\n",
       "      <td>20170111</td>\n",
       "      <td>...</td>\n",
       "      <td>0</td>\n",
       "      <td>100</td>\n",
       "      <td>0</td>\n",
       "      <td>NaN</td>\n",
       "      <td>1</td>\n",
       "      <td>1</td>\n",
       "      <td>0</td>\n",
       "      <td>20170112</td>\n",
       "      <td>21:51:57</td>\n",
       "      <td>MIX</td>\n",
       "    </tr>\n",
       "    <tr>\n",
       "      <th>1</th>\n",
       "      <td>16706</td>\n",
       "      <td>FR0000062671</td>\n",
       "      <td>20170102</td>\n",
       "      <td>00:00:00</td>\n",
       "      <td>1</td>\n",
       "      <td>17566113171</td>\n",
       "      <td>20170102</td>\n",
       "      <td>07:15:04</td>\n",
       "      <td>273086</td>\n",
       "      <td>20170103</td>\n",
       "      <td>...</td>\n",
       "      <td>0</td>\n",
       "      <td>0</td>\n",
       "      <td>0</td>\n",
       "      <td>NaN</td>\n",
       "      <td>1</td>\n",
       "      <td>0</td>\n",
       "      <td>55</td>\n",
       "      <td>20170105</td>\n",
       "      <td>18:15:51</td>\n",
       "      <td>MIX</td>\n",
       "    </tr>\n",
       "    <tr>\n",
       "      <th>2</th>\n",
       "      <td>16707</td>\n",
       "      <td>FR0000062671</td>\n",
       "      <td>20170102</td>\n",
       "      <td>00:00:00</td>\n",
       "      <td>1</td>\n",
       "      <td>17566113172</td>\n",
       "      <td>20170102</td>\n",
       "      <td>07:15:04</td>\n",
       "      <td>501594</td>\n",
       "      <td>20170125</td>\n",
       "      <td>...</td>\n",
       "      <td>0</td>\n",
       "      <td>152</td>\n",
       "      <td>0</td>\n",
       "      <td>NaN</td>\n",
       "      <td>1</td>\n",
       "      <td>1</td>\n",
       "      <td>0</td>\n",
       "      <td>20170126</td>\n",
       "      <td>21:53:32</td>\n",
       "      <td>MIX</td>\n",
       "    </tr>\n",
       "    <tr>\n",
       "      <th>3</th>\n",
       "      <td>16708</td>\n",
       "      <td>FR0000062671</td>\n",
       "      <td>20170102</td>\n",
       "      <td>00:00:00</td>\n",
       "      <td>1</td>\n",
       "      <td>17566113173</td>\n",
       "      <td>20170102</td>\n",
       "      <td>07:15:10</td>\n",
       "      <td>249077</td>\n",
       "      <td>20170102</td>\n",
       "      <td>...</td>\n",
       "      <td>0</td>\n",
       "      <td>0</td>\n",
       "      <td>0</td>\n",
       "      <td>NaN</td>\n",
       "      <td>1</td>\n",
       "      <td>0</td>\n",
       "      <td>200</td>\n",
       "      <td>20170104</td>\n",
       "      <td>23:10:32</td>\n",
       "      <td>HFT</td>\n",
       "    </tr>\n",
       "    <tr>\n",
       "      <th>4</th>\n",
       "      <td>16709</td>\n",
       "      <td>FR0000062671</td>\n",
       "      <td>20170102</td>\n",
       "      <td>00:00:00</td>\n",
       "      <td>1</td>\n",
       "      <td>17566113174</td>\n",
       "      <td>20170102</td>\n",
       "      <td>07:15:10</td>\n",
       "      <td>249211</td>\n",
       "      <td>20170102</td>\n",
       "      <td>...</td>\n",
       "      <td>0</td>\n",
       "      <td>0</td>\n",
       "      <td>0</td>\n",
       "      <td>NaN</td>\n",
       "      <td>1</td>\n",
       "      <td>0</td>\n",
       "      <td>150</td>\n",
       "      <td>20170104</td>\n",
       "      <td>23:10:32</td>\n",
       "      <td>HFT</td>\n",
       "    </tr>\n",
       "  </tbody>\n",
       "</table>\n",
       "<p>5 rows × 49 columns</p>\n",
       "</div>"
      ],
      "text/plain": [
       "   o_seq        o_isin     o_d_i     o_t_i  o_cha_id      o_id_fd    o_d_be  \\\n",
       "0  16705  FR0000062671  20170102  00:00:00         1  17566113170  20170102   \n",
       "1  16706  FR0000062671  20170102  00:00:00         1  17566113171  20170102   \n",
       "2  16707  FR0000062671  20170102  00:00:00         1  17566113172  20170102   \n",
       "3  16708  FR0000062671  20170102  00:00:00         1  17566113173  20170102   \n",
       "4  16709  FR0000062671  20170102  00:00:00         1  17566113174  20170102   \n",
       "\n",
       "     o_t_be  o_m_be    o_d_br  ... o_q_dis  o_q_neg o_app o_origin  o_account  \\\n",
       "0  07:15:04   74899  20170111  ...       0      100     0      NaN          1   \n",
       "1  07:15:04  273086  20170103  ...       0        0     0      NaN          1   \n",
       "2  07:15:04  501594  20170125  ...       0      152     0      NaN          1   \n",
       "3  07:15:10  249077  20170102  ...       0        0     0      NaN          1   \n",
       "4  07:15:10  249211  20170102  ...       0        0     0      NaN          1   \n",
       "\n",
       "  o_nb_tr o_q_rem   o_d_upd   o_t_upd o_member  \n",
       "0       1       0  20170112  21:51:57      MIX  \n",
       "1       0      55  20170105  18:15:51      MIX  \n",
       "2       1       0  20170126  21:53:32      MIX  \n",
       "3       0     200  20170104  23:10:32      HFT  \n",
       "4       0     150  20170104  23:10:32      HFT  \n",
       "\n",
       "[5 rows x 49 columns]"
      ]
     },
     "execution_count": 20,
     "metadata": {},
     "output_type": "execute_result"
    }
   ],
   "source": [
    "output = '/Users/australien/Desktop/orders_improved.csv'\n",
    "df.to_csv(output)\n",
    "df.head()"
   ]
  },
  {
   "cell_type": "code",
   "execution_count": 7,
   "metadata": {},
   "outputs": [
    {
     "data": {
      "text/plain": [
       "39"
      ]
     },
     "execution_count": 7,
     "metadata": {},
     "output_type": "execute_result"
    }
   ],
   "source": [
    "df.o_cha_id.max()"
   ]
  },
  {
   "cell_type": "code",
   "execution_count": 10,
   "metadata": {},
   "outputs": [
    {
     "data": {
      "text/plain": [
       "o_sq_nb  o_sq_nbm\n",
       "1        0           1\n",
       "897      0           1\n",
       "899      0           1\n",
       "901      0           1\n",
       "902      978         1\n",
       "                    ..\n",
       "472      0           1\n",
       "473      0           1\n",
       "474      475         1\n",
       "475      477         1\n",
       "1409     0           1\n",
       "Length: 1040, dtype: int64"
      ]
     },
     "execution_count": 10,
     "metadata": {},
     "output_type": "execute_result"
    }
   ],
   "source": [
    "df[['o_sq_nb', 'o_sq_nbm']].value_counts()"
   ]
  },
  {
   "cell_type": "code",
   "execution_count": 11,
   "metadata": {},
   "outputs": [
    {
     "data": {
      "text/plain": [
       "1       1\n",
       "897     1\n",
       "899     1\n",
       "901     1\n",
       "902     1\n",
       "       ..\n",
       "472     1\n",
       "473     1\n",
       "474     1\n",
       "475     1\n",
       "1409    1\n",
       "Name: o_sq_nb, Length: 1040, dtype: int64"
      ]
     },
     "execution_count": 11,
     "metadata": {},
     "output_type": "execute_result"
    }
   ],
   "source": [
    "df.o_sq_nb.value_counts()"
   ]
  },
  {
   "cell_type": "code",
   "execution_count": 13,
   "metadata": {},
   "outputs": [
    {
     "data": {
      "text/plain": [
       "0       661\n",
       "831       1\n",
       "876       1\n",
       "866       1\n",
       "868       1\n",
       "       ... \n",
       "527       1\n",
       "591       1\n",
       "590       1\n",
       "610       1\n",
       "1374      1\n",
       "Name: o_sq_nbm, Length: 380, dtype: int64"
      ]
     },
     "execution_count": 13,
     "metadata": {},
     "output_type": "execute_result"
    }
   ],
   "source": [
    "df.o_sq_nbm.value_counts()"
   ]
  },
  {
   "cell_type": "code",
   "execution_count": 141,
   "metadata": {},
   "outputs": [],
   "source": [
    "# Import Built-Ins\n",
    "\n",
    "# Import Third-Party\n",
    "import pandas as pd\n",
    "from pathlib import Path\n",
    "import numpy as np\n",
    "\n",
    "# Import Homebrew\n",
    "#from utils.other_utils import check_empty_csv\n",
    "\n",
    "\n",
    "\n",
    "def preprocess_events(path):\n",
    "    \"\"\" Preprocessing of the event file.\n",
    "    The function will transform the data into a usable database.\n",
    "    The data is returned as a pandas database.\n",
    "\n",
    "    Parameters\n",
    "    ----------\n",
    "    :param path : string\n",
    "        Path of the csv order update file\n",
    "\n",
    "    \n",
    "    Returns\n",
    "    -------\n",
    "    value : pd.DataFrame\n",
    "        New formatted order update file\n",
    "    \"\"\"\n",
    "\n",
    "    columns = [\n",
    "        'e_seq',\n",
    "        'e_act_m_state',\n",
    "        'e_d_upd',\n",
    "        'e_d_me',\n",
    "        'e_t_me',\n",
    "        'e_d_suspension',\n",
    "        'e_t_suspension',\n",
    "        'e_ct_state',\n",
    "        'e_value_state',\n",
    "        'e_cd_gc',\n",
    "        'e_t_op',\n",
    "        'e_reservation',\n",
    "        'e_isin',\n",
    "        'e_cd_pc'\n",
    "    ]\n",
    "\n",
    "    dtypes = {\n",
    "        'e_seq': 'int32',\n",
    "        'e_act_m_state': 'category',\n",
    "        'e_d_upd': 'object',\n",
    "        'e_d_me': 'string',\n",
    "        'e_t_me': 'string',\n",
    "        'e_d_suspension': 'float',\n",
    "        'e_t_suspension': 'float',\n",
    "        'e_ct_state': 'float',\n",
    "        'e_value_state': 'category',\n",
    "        'e_cd_gc': 'category',\n",
    "        'e_t_op': 'object',\n",
    "        'e_reservation': 'category',\n",
    "        'e_isin': 'category',\n",
    "        'e_cd_pc': 'category'\n",
    "    }\n",
    "\n",
    "    df = pd.read_csv(path, names=columns, dtype=dtypes)\n",
    "\n",
    "\n",
    "    # Time\n",
    "    new_columns = ['e_dt_me']\n",
    "    date_columns = ['e_d_me']\n",
    "    time_columns = ['e_t_me']\n",
    "\n",
    "    for i, col in enumerate(date_columns):\n",
    "        # Mask for columns with NaNs\n",
    "        na_mask = df[date_columns[i]].isnull()\n",
    "\n",
    "        # Creating new time columns\n",
    "        df.loc[~na_mask, new_columns[i]] = pd.to_datetime(df[date_columns[i]] + ' ' + df[time_columns[i]], format='%Y%m%d %H:%M:%S')\n",
    "\n",
    "    # Update time\n",
    "    df['e_d_upd'] = pd.to_datetime(df['e_d_upd'], format='%Y%m%d')\n",
    "    \n",
    "\n",
    "    # Programmed opening time\n",
    "    na_mask = ((df['e_t_op'] == '0') | (df['e_t_op'] == 0))\n",
    "    df.loc[na_mask, 'e_t_op'] = np.nan\n",
    "    df.loc[~na_mask, 'e_t_op'] = pd.to_datetime(df['e_t_op'], format='%H:%M:%S').dt.time\n",
    "\n",
    "\n",
    "    #Column drops\n",
    "    df.drop(columns=[\n",
    "        'e_d_suspension', 'e_t_suspension',\n",
    "        'e_d_me', 'e_t_me',\n",
    "        'e_ct_state', \n",
    "        'e_cd_pc'\n",
    "        ], inplace=True)\n",
    "\n",
    "    return df"
   ]
  },
  {
   "cell_type": "code",
   "execution_count": 142,
   "metadata": {},
   "outputs": [
    {
     "data": {
      "text/html": [
       "<div>\n",
       "<style scoped>\n",
       "    .dataframe tbody tr th:only-of-type {\n",
       "        vertical-align: middle;\n",
       "    }\n",
       "\n",
       "    .dataframe tbody tr th {\n",
       "        vertical-align: top;\n",
       "    }\n",
       "\n",
       "    .dataframe thead th {\n",
       "        text-align: right;\n",
       "    }\n",
       "</style>\n",
       "<table border=\"1\" class=\"dataframe\">\n",
       "  <thead>\n",
       "    <tr style=\"text-align: right;\">\n",
       "      <th></th>\n",
       "      <th>e_seq</th>\n",
       "      <th>e_act_m_state</th>\n",
       "      <th>e_d_upd</th>\n",
       "      <th>e_value_state</th>\n",
       "      <th>e_cd_gc</th>\n",
       "      <th>e_t_op</th>\n",
       "      <th>e_reservation</th>\n",
       "      <th>e_isin</th>\n",
       "      <th>e_dt_me</th>\n",
       "    </tr>\n",
       "  </thead>\n",
       "  <tbody>\n",
       "    <tr>\n",
       "      <th>0</th>\n",
       "      <td>5632</td>\n",
       "      <td>N</td>\n",
       "      <td>2017-01-03</td>\n",
       "      <td>AS</td>\n",
       "      <td>EA</td>\n",
       "      <td>NaN</td>\n",
       "      <td>NaN</td>\n",
       "      <td>BE0974267966</td>\n",
       "      <td>2017-01-02 04:06:40</td>\n",
       "    </tr>\n",
       "    <tr>\n",
       "      <th>1</th>\n",
       "      <td>42677</td>\n",
       "      <td>N</td>\n",
       "      <td>2017-01-03</td>\n",
       "      <td>AS</td>\n",
       "      <td>10</td>\n",
       "      <td>NaN</td>\n",
       "      <td>NaN</td>\n",
       "      <td>CA38055V2049</td>\n",
       "      <td>2017-01-02 04:06:40</td>\n",
       "    </tr>\n",
       "    <tr>\n",
       "      <th>2</th>\n",
       "      <td>49502</td>\n",
       "      <td>R</td>\n",
       "      <td>2017-01-03</td>\n",
       "      <td>AS</td>\n",
       "      <td>19</td>\n",
       "      <td>NaN</td>\n",
       "      <td>A</td>\n",
       "      <td>CA8584971003</td>\n",
       "      <td>2017-01-02 15:00:00</td>\n",
       "    </tr>\n",
       "    <tr>\n",
       "      <th>3</th>\n",
       "      <td>49503</td>\n",
       "      <td>NaN</td>\n",
       "      <td>2017-01-03</td>\n",
       "      <td>A</td>\n",
       "      <td>19</td>\n",
       "      <td>NaN</td>\n",
       "      <td>NaN</td>\n",
       "      <td>CA8584971003</td>\n",
       "      <td>2017-01-02 17:46:50</td>\n",
       "    </tr>\n",
       "    <tr>\n",
       "      <th>4</th>\n",
       "      <td>23944</td>\n",
       "      <td>N</td>\n",
       "      <td>2017-01-03</td>\n",
       "      <td>AS</td>\n",
       "      <td>10</td>\n",
       "      <td>NaN</td>\n",
       "      <td>NaN</td>\n",
       "      <td>CH0044947239</td>\n",
       "      <td>2017-01-02 04:06:40</td>\n",
       "    </tr>\n",
       "    <tr>\n",
       "      <th>...</th>\n",
       "      <td>...</td>\n",
       "      <td>...</td>\n",
       "      <td>...</td>\n",
       "      <td>...</td>\n",
       "      <td>...</td>\n",
       "      <td>...</td>\n",
       "      <td>...</td>\n",
       "      <td>...</td>\n",
       "      <td>...</td>\n",
       "    </tr>\n",
       "    <tr>\n",
       "      <th>321824</th>\n",
       "      <td>57007</td>\n",
       "      <td>O</td>\n",
       "      <td>2017-01-03</td>\n",
       "      <td>A</td>\n",
       "      <td>HG</td>\n",
       "      <td>NaN</td>\n",
       "      <td>NaN</td>\n",
       "      <td>XS1293116577</td>\n",
       "      <td>2017-01-02 09:09:30</td>\n",
       "    </tr>\n",
       "    <tr>\n",
       "      <th>321825</th>\n",
       "      <td>75292</td>\n",
       "      <td>N</td>\n",
       "      <td>2017-01-03</td>\n",
       "      <td>IS</td>\n",
       "      <td>2E</td>\n",
       "      <td>NaN</td>\n",
       "      <td>NaN</td>\n",
       "      <td>XS1317057278</td>\n",
       "      <td>2017-01-02 04:06:22</td>\n",
       "    </tr>\n",
       "    <tr>\n",
       "      <th>321826</th>\n",
       "      <td>34334</td>\n",
       "      <td>R</td>\n",
       "      <td>2017-01-03</td>\n",
       "      <td>AS</td>\n",
       "      <td>GM</td>\n",
       "      <td>NaN</td>\n",
       "      <td>A</td>\n",
       "      <td>XS1338573543</td>\n",
       "      <td>2017-01-02 09:05:00</td>\n",
       "    </tr>\n",
       "    <tr>\n",
       "      <th>321827</th>\n",
       "      <td>34335</td>\n",
       "      <td>NaN</td>\n",
       "      <td>2017-01-03</td>\n",
       "      <td>A</td>\n",
       "      <td>GM</td>\n",
       "      <td>NaN</td>\n",
       "      <td>NaN</td>\n",
       "      <td>XS1338573543</td>\n",
       "      <td>2017-01-02 17:30:23</td>\n",
       "    </tr>\n",
       "    <tr>\n",
       "      <th>321828</th>\n",
       "      <td>93528</td>\n",
       "      <td>N</td>\n",
       "      <td>2017-01-03</td>\n",
       "      <td>IS</td>\n",
       "      <td>4Z</td>\n",
       "      <td>NaN</td>\n",
       "      <td>NaN</td>\n",
       "      <td>XS1422238136</td>\n",
       "      <td>2017-01-02 04:06:22</td>\n",
       "    </tr>\n",
       "  </tbody>\n",
       "</table>\n",
       "<p>321829 rows × 9 columns</p>\n",
       "</div>"
      ],
      "text/plain": [
       "        e_seq e_act_m_state    e_d_upd e_value_state e_cd_gc e_t_op  \\\n",
       "0        5632             N 2017-01-03            AS      EA    NaN   \n",
       "1       42677             N 2017-01-03            AS      10    NaN   \n",
       "2       49502             R 2017-01-03            AS      19    NaN   \n",
       "3       49503           NaN 2017-01-03             A      19    NaN   \n",
       "4       23944             N 2017-01-03            AS      10    NaN   \n",
       "...       ...           ...        ...           ...     ...    ...   \n",
       "321824  57007             O 2017-01-03             A      HG    NaN   \n",
       "321825  75292             N 2017-01-03            IS      2E    NaN   \n",
       "321826  34334             R 2017-01-03            AS      GM    NaN   \n",
       "321827  34335           NaN 2017-01-03             A      GM    NaN   \n",
       "321828  93528             N 2017-01-03            IS      4Z    NaN   \n",
       "\n",
       "       e_reservation        e_isin             e_dt_me  \n",
       "0                NaN  BE0974267966 2017-01-02 04:06:40  \n",
       "1                NaN  CA38055V2049 2017-01-02 04:06:40  \n",
       "2                  A  CA8584971003 2017-01-02 15:00:00  \n",
       "3                NaN  CA8584971003 2017-01-02 17:46:50  \n",
       "4                NaN  CH0044947239 2017-01-02 04:06:40  \n",
       "...              ...           ...                 ...  \n",
       "321824           NaN  XS1293116577 2017-01-02 09:09:30  \n",
       "321825           NaN  XS1317057278 2017-01-02 04:06:22  \n",
       "321826             A  XS1338573543 2017-01-02 09:05:00  \n",
       "321827           NaN  XS1338573543 2017-01-02 17:30:23  \n",
       "321828           NaN  XS1422238136 2017-01-02 04:06:22  \n",
       "\n",
       "[321829 rows x 9 columns]"
      ]
     },
     "execution_count": 142,
     "metadata": {},
     "output_type": "execute_result"
    }
   ],
   "source": [
    "import numpy as np\n",
    "columns = [\n",
    "        'e_seq',\n",
    "        'e_act_m_state',\n",
    "        'e_d_upd',\n",
    "        'e_d_me',\n",
    "        'e_t_me',\n",
    "        'e_d_suspension',\n",
    "        'e_t_suspension',\n",
    "        'e_ct_state',\n",
    "        'e_value_state',\n",
    "        'e_cd_gc',\n",
    "        'e_t_op',\n",
    "        'e_reservation',\n",
    "        'e_isin',\n",
    "        'e_cd_pc'\n",
    "    ]\n",
    "\n",
    "dtypes = {\n",
    "        'e_seq': 'int32',\n",
    "        'e_act_m_state': 'category',\n",
    "        'e_d_upd': 'object',\n",
    "        'e_d_me': 'string',\n",
    "        'e_t_me': 'string',\n",
    "        'e_d_suspension': 'float',\n",
    "        'e_t_suspension': 'float',\n",
    "        'e_ct_state': 'float',\n",
    "        'e_value_state': 'category',\n",
    "        'e_cd_gc': 'category',\n",
    "        'e_t_op': 'string',\n",
    "        'e_reservation': 'category',\n",
    "        'e_isin': 'category',\n",
    "        'e_cd_pc': 'category'}\n",
    "\n",
    "\n",
    "path = '/Volumes/Extreme ssd/raw/01/20170102/VHE_20170102.csv'\n",
    "df = preprocess_events(path)\n",
    "#df = pd.read_csv(path, names=columns, dtype=dtypes)\n",
    "\n",
    "#df['e_d_upd'] = pd.to_datetime(df['e_d_upd'], format='%Y%m%d')\n",
    "\n",
    "df"
   ]
  },
  {
   "cell_type": "code",
   "execution_count": 123,
   "metadata": {},
   "outputs": [
    {
     "data": {
      "text/plain": [
       "e_seq                     int32\n",
       "e_act_m_state          category\n",
       "e_d_upd          datetime64[ns]\n",
       "e_value_state          category\n",
       "e_cd_gc                category\n",
       "e_t_op                   object\n",
       "e_reservation          category\n",
       "e_isin                 category\n",
       "dtype: object"
      ]
     },
     "execution_count": 123,
     "metadata": {},
     "output_type": "execute_result"
    }
   ],
   "source": [
    "df.dtypes"
   ]
  },
  {
   "cell_type": "code",
   "execution_count": 140,
   "metadata": {},
   "outputs": [
    {
     "data": {
      "text/plain": [
       "datetime.time(10, 18, 53)"
      ]
     },
     "execution_count": 140,
     "metadata": {},
     "output_type": "execute_result"
    }
   ],
   "source": [
    "mask = df['e_t_op'].isnull()\n",
    "df[~mask].iloc[1].e_t_op"
   ]
  },
  {
   "cell_type": "code",
   "execution_count": 113,
   "metadata": {},
   "outputs": [
    {
     "data": {
      "text/plain": [
       "10:24:00    1\n",
       "10:18:53    1\n",
       "16:23:49    1\n",
       "16:25:19    1\n",
       "16:17:19    1\n",
       "16:19:19    1\n",
       "16:24:49    1\n",
       "16:25:49    1\n",
       "16:22:49    1\n",
       "16:19:49    1\n",
       "16:16:19    1\n",
       "16:20:49    1\n",
       "16:20:19    1\n",
       "16:17:49    1\n",
       "16:18:19    1\n",
       "16:26:49    1\n",
       "16:22:19    1\n",
       "16:21:19    1\n",
       "16:16:49    1\n",
       "16:21:49    1\n",
       "16:26:19    1\n",
       "16:23:19    1\n",
       "16:57:00    1\n",
       "16:18:49    1\n",
       "10:19:23    1\n",
       "16:24:19    1\n",
       "Name: e_t_op, dtype: int64"
      ]
     },
     "execution_count": 113,
     "metadata": {},
     "output_type": "execute_result"
    }
   ],
   "source": [
    "df.e_t_op.value_counts()"
   ]
  },
  {
   "cell_type": "code",
   "execution_count": 84,
   "metadata": {},
   "outputs": [
    {
     "data": {
      "text/plain": [
       "110454    10:24:00\n",
       "110457    10:18:53\n",
       "110458    10:19:23\n",
       "110471    16:18:49\n",
       "110473    16:57:00\n",
       "110474    16:23:19\n",
       "110475    16:26:19\n",
       "110476    16:21:49\n",
       "110478    16:16:49\n",
       "110479    16:21:19\n",
       "110487    16:22:19\n",
       "110490    16:26:49\n",
       "110495    16:18:19\n",
       "110496    16:17:49\n",
       "110498    16:20:19\n",
       "110499    16:20:49\n",
       "110500    16:16:19\n",
       "110501    16:19:49\n",
       "110504    16:22:49\n",
       "110505    16:25:49\n",
       "110506    16:24:49\n",
       "110507    16:19:19\n",
       "110510    16:17:19\n",
       "110511    16:25:19\n",
       "110512    16:23:49\n",
       "110515    16:24:19\n",
       "Name: e_t_op, dtype: object"
      ]
     },
     "execution_count": 84,
     "metadata": {},
     "output_type": "execute_result"
    }
   ],
   "source": [
    "na_mask = (df['e_t_op'] == '0')\n",
    "df_copy = df.loc[~na_mask, 'e_t_op'].copy()\n",
    "df_copy = pd.to_datetime(df_copy).dt.time\n",
    "df_copy"
   ]
  },
  {
   "cell_type": "code",
   "execution_count": null,
   "metadata": {},
   "outputs": [],
   "source": []
  }
 ],
 "metadata": {
  "kernelspec": {
   "display_name": "envIeseg",
   "language": "python",
   "name": "python3"
  },
  "language_info": {
   "codemirror_mode": {
    "name": "ipython",
    "version": 3
   },
   "file_extension": ".py",
   "mimetype": "text/x-python",
   "name": "python",
   "nbconvert_exporter": "python",
   "pygments_lexer": "ipython3",
   "version": "3.7.12"
  },
  "orig_nbformat": 4
 },
 "nbformat": 4,
 "nbformat_minor": 2
}
