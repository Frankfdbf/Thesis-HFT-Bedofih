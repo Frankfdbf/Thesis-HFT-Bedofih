{
 "cells": [
  {
   "cell_type": "code",
   "execution_count": null,
   "metadata": {},
   "outputs": [],
   "source": [
    "# Import Built-Ins\n",
    "import datetime\n",
    "from copy import deepcopy\n",
    "# Import Third-Party\n",
    "import pandas as pd\n",
    "import numpy as np\n",
    "import matplotlib.pyplot as plt\n",
    "import seaborn as sns\n",
    "from tqdm import tqdm\n",
    "\n",
    "# Import Homebrew\n",
    "from utilities.functions import timeit, preprocess_order_file, create_limit_order_book\n",
    "from utilities.limit_order_book_og import LimitOrderBookOg, OrderOg\n",
    "from utilities.limit_order_book import LimitOrderBook, Order\n",
    "\n",
    "\n",
    "pd.set_option('display.max_columns', None)\n",
    "sns.set()\n",
    "timestamp = datetime.datetime(year=2017, month=1, day=2, hour=11, minute=30)"
   ]
  },
  {
   "attachments": {},
   "cell_type": "markdown",
   "metadata": {},
   "source": [
    "# Data formating"
   ]
  },
  {
   "cell_type": "code",
   "execution_count": null,
   "metadata": {},
   "outputs": [],
   "source": [
    "path = '/Users/australien/Documents/IESEG/Master 2/Thesis/BEDOFIH 2017/Data/01/20170102/AA0000000000-AN8068571086/AN8068571086/VHOX_AN8068571086_20170102.csv'"
   ]
  },
  {
   "cell_type": "code",
   "execution_count": null,
   "metadata": {},
   "outputs": [],
   "source": [
    "data_test = preprocess_order_file(path=path, save=False)\n",
    "data_test.head()"
   ]
  },
  {
   "cell_type": "code",
   "execution_count": null,
   "metadata": {},
   "outputs": [],
   "source": [
    "data_test.to_csv(\"/Users/australien/Downloads/VHOX_orders_test_processed.csv\")"
   ]
  },
  {
   "attachments": {},
   "cell_type": "markdown",
   "metadata": {},
   "source": [
    "# Data discovery"
   ]
  },
  {
   "cell_type": "code",
   "execution_count": null,
   "metadata": {},
   "outputs": [],
   "source": [
    "data = data_test.copy()\n",
    "data.info()"
   ]
  },
  {
   "cell_type": "code",
   "execution_count": null,
   "metadata": {},
   "outputs": [],
   "source": [
    "data[data.o_id_fd == 17568959537]"
   ]
  },
  {
   "cell_type": "code",
   "execution_count": null,
   "metadata": {},
   "outputs": [],
   "source": [
    "data[data['o_state']=='4'].head()"
   ]
  },
  {
   "cell_type": "code",
   "execution_count": null,
   "metadata": {},
   "outputs": [],
   "source": [
    "data[data['o_type']=='1'].head()"
   ]
  },
  {
   "attachments": {},
   "cell_type": "markdown",
   "metadata": {},
   "source": [
    "# Limit order book (All data)\n",
    "## Creation"
   ]
  },
  {
   "cell_type": "code",
   "execution_count": null,
   "metadata": {},
   "outputs": [],
   "source": [
    "\"\"\"\n",
    "timestamp_test = data.loc[74851, 'time_validity']\n",
    "timestamp_issue = data[(data['o_id_fd'] == 5491124529) & (data['o_id_cha'] == 6)].iloc[0,:].time_submission\n",
    "timestamp_issue\n",
    "lob = create_limit_order_book(data, timestamp_issue)\n",
    "\"\"\"\n",
    "\n",
    "lob = create_limit_order_book(orders=data[:131], limit_timestamp=timestamp)"
   ]
  },
  {
   "cell_type": "code",
   "execution_count": null,
   "metadata": {},
   "outputs": [],
   "source": [
    "lob.levels(50)['bids']"
   ]
  },
  {
   "cell_type": "code",
   "execution_count": null,
   "metadata": {},
   "outputs": [],
   "source": [
    "lob.levels(5)['asks']"
   ]
  },
  {
   "cell_type": "code",
   "execution_count": null,
   "metadata": {},
   "outputs": [],
   "source": [
    "lob._orders"
   ]
  },
  {
   "cell_type": "code",
   "execution_count": null,
   "metadata": {},
   "outputs": [],
   "source": [
    "\n",
    "#lob = create_limit_order_book(data_issue, timestamp)\n",
    "lob = create_limit_order_book(data, timestamp)\n",
    "lob._price_levels\n"
   ]
  },
  {
   "attachments": {},
   "cell_type": "markdown",
   "metadata": {},
   "source": [
    "## Exploration of capabilities"
   ]
  },
  {
   "cell_type": "code",
   "execution_count": null,
   "metadata": {},
   "outputs": [],
   "source": [
    "print(lob.best_ask.orders.head)"
   ]
  },
  {
   "cell_type": "code",
   "execution_count": null,
   "metadata": {},
   "outputs": [],
   "source": [
    "lob._orders[5491124525]"
   ]
  },
  {
   "cell_type": "code",
   "execution_count": null,
   "metadata": {},
   "outputs": [],
   "source": [
    "row = data.iloc[74852, :]\n",
    "if row.o_type == '2':\n",
    "    time_validity = row.time_validity\n",
    "    id = row.o_id_fd\n",
    "    char_id = row.o_id_cha\n",
    "    is_bid = True if row.o_bs == 'B' else False\n",
    "    ini_size = row.o_q_ini\n",
    "    neg_size = row.o_q_neg\n",
    "    rem_size = row.o_q_rem\n",
    "    price = row.o_price\n",
    "    state = row.o_state\n",
    "    o_type = row.o_type\n",
    "    account = row.o_account\n",
    "    hft_flag = row.o_member\n",
    "    time_submission = row.time_submission\n",
    "    order = Order(uid=id, char_id=char_id, is_bid=is_bid, ini_size=ini_size, neg_size=neg_size, \n",
    "                    rem_size=rem_size, price=price, state=state, type=o_type, account=account, \n",
    "                    hft_flag=hft_flag, sub_timestamp=time_submission, val_timestamp=time_validity)\n",
    "order"
   ]
  },
  {
   "cell_type": "code",
   "execution_count": null,
   "metadata": {},
   "outputs": [],
   "source": [
    "lob.process(order)"
   ]
  },
  {
   "cell_type": "code",
   "execution_count": null,
   "metadata": {},
   "outputs": [],
   "source": [
    "lob._price_levels"
   ]
  },
  {
   "cell_type": "code",
   "execution_count": null,
   "metadata": {},
   "outputs": [],
   "source": [
    "lob.top_level"
   ]
  },
  {
   "cell_type": "code",
   "execution_count": null,
   "metadata": {},
   "outputs": [],
   "source": [
    "print(lob.best_ask)\n",
    "print(lob.best_bid)"
   ]
  },
  {
   "cell_type": "code",
   "execution_count": null,
   "metadata": {},
   "outputs": [],
   "source": [
    "lob_copy = deepcopy(lob)"
   ]
  },
  {
   "attachments": {},
   "cell_type": "markdown",
   "metadata": {},
   "source": [
    "# Test of order update (One order)"
   ]
  },
  {
   "cell_type": "code",
   "execution_count": null,
   "metadata": {},
   "outputs": [],
   "source": [
    "# Find id or order with 337 updates\n",
    "id = data[data['o_id_cha'] == 337]['o_id_fd'].iloc[0]\n",
    "data_test = data[data['o_id_fd'] == id].sort_values(by='o_id_cha')\n",
    "#data_test.to_excel('/Users/australien/Downloads/one_order_updated_2.xlsx')\n",
    "data_test.tail()"
   ]
  },
  {
   "cell_type": "code",
   "execution_count": null,
   "metadata": {},
   "outputs": [],
   "source": [
    "\n",
    "lob_test = create_limit_order_book(data_test, timestamp)\n",
    "lob_test._orders"
   ]
  },
  {
   "cell_type": "code",
   "execution_count": null,
   "metadata": {},
   "outputs": [],
   "source": []
  },
  {
   "cell_type": "code",
   "execution_count": null,
   "metadata": {},
   "outputs": [],
   "source": [
    "lob.levels(2)"
   ]
  },
  {
   "cell_type": "code",
   "execution_count": 20,
   "metadata": {},
   "outputs": [
    {
     "data": {
      "text/plain": [
       "datetime.time(9, 0, 13, 10191)"
      ]
     },
     "execution_count": 20,
     "metadata": {},
     "output_type": "execute_result"
    }
   ],
   "source": [
    "import pandas as pd\n",
    "\n",
    "\n",
    "path = '/Volumes/Extreme ssd/trades/CH0012214059/VHD_CH0012214059_20170102.csv'\n",
    "\n",
    "data = pd.read_csv(path)\n",
    "data['t_dtm_neg'] = pd.to_datetime(data['t_dtm_neg'])\n",
    "date = data.iloc[0].t_dtm_neg.time()\n",
    "date"
   ]
  },
  {
   "cell_type": "code",
   "execution_count": 22,
   "metadata": {},
   "outputs": [
    {
     "data": {
      "text/plain": [
       "True"
      ]
     },
     "execution_count": 22,
     "metadata": {},
     "output_type": "execute_result"
    }
   ],
   "source": [
    "import datetime\n",
    "CLOSING_AUCTION_CUTOFF = datetime.time(hour=18, minute=35, second=0)\n",
    "\n",
    "df = data[data.t_dtm_neg.dt.time > CLOSING_AUCTION_CUTOFF]\n",
    "df.empty"
   ]
  },
  {
   "cell_type": "code",
   "execution_count": null,
   "metadata": {},
   "outputs": [],
   "source": []
  }
 ],
 "metadata": {
  "kernelspec": {
   "display_name": "envIeseg",
   "language": "python",
   "name": "python3"
  },
  "language_info": {
   "codemirror_mode": {
    "name": "ipython",
    "version": 3
   },
   "file_extension": ".py",
   "mimetype": "text/x-python",
   "name": "python",
   "nbconvert_exporter": "python",
   "pygments_lexer": "ipython3",
   "version": "3.7.12"
  },
  "orig_nbformat": 4
 },
 "nbformat": 4,
 "nbformat_minor": 2
}
